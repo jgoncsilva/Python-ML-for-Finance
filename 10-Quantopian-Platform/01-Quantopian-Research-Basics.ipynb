{
 "cells": [
  {
   "cell_type": "markdown",
   "metadata": {},
   "source": [
    "# 01-Quantopian Research Basics\n",
    "\n",
    "**Please remember that this notebook will only work on Quantopian! Make an account and upload this notebook file. These commands and functions won't work except on the Quantopian trading platform!**\n",
    "\n",
    "Note a lot of the written markdown text in this notebook comes direclty from the Quantopian docs and tutorials, definitely check those out as well, they're great!\n",
    "\n",
    "## Research\n",
    "\n",
    "The notebook format allows us to easily gather information about variuos securities all within the Quantopian platform. Keep in mind this is different than the base coding platform of quantopian, which focuses on actually implementing and backtesting trading strategies."
   ]
  },
  {
   "cell_type": "code",
   "execution_count": null,
   "metadata": {
    "collapsed": true
   },
   "outputs": [],
   "source": [
    "import numpy as np\n",
    "import pandas as pd\n",
    "import matplotlib.pyplot as plt\n",
    "# NO NEED TO DO MAGIC INLINE COMMAND ON QUANTOPIAN!"
   ]
  },
  {
   "cell_type": "markdown",
   "metadata": {
    "collapsed": true
   },
   "source": [
    "## Getting Information\n",
    "\n",
    "Let's go over a few key functions:\n",
    "\n",
    "* get_pricing()\n",
    "* symbols()\n",
    "* local_csv()\n",
    "* get_backtest()\n",
    "* get_fundamentals()"
   ]
  },
  {
   "cell_type": "markdown",
   "metadata": {},
   "source": [
    "## get_pricing()\n",
    "\n",
    "The `get_pricing` function provides access to 12 years of US Equity pricing data: the same data used by the Quantopian backtester.\n",
    "\n",
    "`get_pricing` returns a <b>pandas object</b>. This could be a panel, dataframe or series depending on the input values. "
   ]
  },
  {
   "cell_type": "code",
   "execution_count": null,
   "metadata": {},
   "outputs": [],
   "source": [
    "mcdon = get_pricing('MCD',\n",
    "                    start_date = '2017-01-01', \n",
    "                    end_date = '2017-02-01', \n",
    "                    frequency = 'minute')"
   ]
  },
  {
   "cell_type": "code",
   "execution_count": null,
   "metadata": {},
   "outputs": [],
   "source": [
    "mcdon.head()"
   ]
  },
  {
   "cell_type": "code",
   "execution_count": null,
   "metadata": {},
   "outputs": [],
   "source": [
    "mcdon.info()"
   ]
  },
  {
   "cell_type": "code",
   "execution_count": null,
   "metadata": {},
   "outputs": [],
   "source": [
    "# Can only go about 12 years back\n",
    "# which is really all you need for algo trading, \n",
    "# going back further probably is more noise than signal.\n",
    "\n",
    "mcdon = get_pricing('MCD',\n",
    "                    start_date = '2005-01-01', \n",
    "                    end_date = '2017-01-01', \n",
    "                    frequency = 'daily')"
   ]
  },
  {
   "cell_type": "code",
   "execution_count": null,
   "metadata": {},
   "outputs": [],
   "source": [
    "mcdon['close_price'].plot()"
   ]
  },
  {
   "cell_type": "code",
   "execution_count": null,
   "metadata": {},
   "outputs": [],
   "source": [
    "mcdon['close_price'].pct_change(1).hist(bins = 100,\n",
    "                                        figsize = (12, 8))"
   ]
  },
  {
   "cell_type": "markdown",
   "metadata": {},
   "source": [
    "## symbols()\n",
    "\n",
    "By default `symbols` returns the security object for a ticker symbol. Specify a ticker symbol, or list of symbols, as a string and get a list of security objects back. \n",
    "\n",
    "- Use `symbol_reference_date` to identify which date you want the symbol back for a particular ticker symbol. \n",
    "- Specify how you would like missing results to be handled with `handle_missing`\n",
    "\n"
   ]
  },
  {
   "cell_type": "code",
   "execution_count": null,
   "metadata": {},
   "outputs": [],
   "source": [
    "mcdon_eq_info = symbols('MCD')"
   ]
  },
  {
   "cell_type": "code",
   "execution_count": null,
   "metadata": {},
   "outputs": [],
   "source": [
    "type(mcdon_eq_info)"
   ]
  },
  {
   "cell_type": "code",
   "execution_count": null,
   "metadata": {},
   "outputs": [],
   "source": [
    "for key in mcdon_eq_info.to_dict():\n",
    "    print(key)\n",
    "    print(mcdon_eq_info.to_dict()[key])\n",
    "    print('\\n')"
   ]
  },
  {
   "cell_type": "markdown",
   "metadata": {},
   "source": [
    "## get_fundamentals()\n",
    "\n",
    "The `get_fundamentals` function provides programmatic access to the Quantopian fundamental database. Based on data provided by Morningstar, `get_fundamentals` provides over 600 corporate metrics dating back to 2002 (to match Quantopian's pricing data). \n",
    "\n",
    "The data used by this research function is the same data used by the `get_fundamentals` function used in the Quantopian IDE. The fields are described in the Quantopian help documents: http://www.quantopian.com/help/fundamentals.\n"
   ]
  },
  {
   "cell_type": "code",
   "execution_count": null,
   "metadata": {
    "collapsed": true
   },
   "outputs": [],
   "source": [
    "# Have to do this first in the notebook:\n",
    "fundamentals = init_fundamentals()"
   ]
  },
  {
   "cell_type": "markdown",
   "metadata": {},
   "source": [
    "The get_fundamentals() function takes in a SQLAlchemy query which can be quite complicated and strange looking at first. Basically it allows you to filter by a variety of fundamentals (things like Market Cap, P/E Ratio, or even city of HQ). Check out the link above for all the things you can filter by!\n",
    "\n",
    "Let's walk through a few query examples.\n",
    "\n",
    "First call fundamentals and use tab to check out the various options:"
   ]
  },
  {
   "cell_type": "code",
   "execution_count": null,
   "metadata": {},
   "outputs": [],
   "source": [
    "#fundamentals. # call tab here as in the video!"
   ]
  },
  {
   "cell_type": "code",
   "execution_count": null,
   "metadata": {},
   "outputs": [],
   "source": [
    "# Market Cap\n",
    "my_query = query(fundamentals.valuation.market_cap)"
   ]
  },
  {
   "cell_type": "code",
   "execution_count": null,
   "metadata": {},
   "outputs": [],
   "source": [
    "my_funds = get_fundamentals(my_query,\n",
    "                            '2017-01-01')"
   ]
  },
  {
   "cell_type": "code",
   "execution_count": null,
   "metadata": {},
   "outputs": [],
   "source": [
    "my_funds.info()"
   ]
  },
  {
   "cell_type": "code",
   "execution_count": null,
   "metadata": {},
   "outputs": [],
   "source": [
    "# Basically just returns the market cap of everything\n",
    "# for 2017-01-01\n",
    "my_funds.head()"
   ]
  },
  {
   "cell_type": "code",
   "execution_count": null,
   "metadata": {},
   "outputs": [],
   "source": [
    "# What you usualy do is filter by other qualities after the query!\n",
    "\n",
    "# Only get companies worth 500 billion or more (that's a lot of dough!)\n",
    "big_companies = (query(fundamentals.valuation.market_cap).\n",
    "                 filter(fundamentals.valuation.market_cap > 500000000000) )"
   ]
  },
  {
   "cell_type": "code",
   "execution_count": null,
   "metadata": {
    "collapsed": true
   },
   "outputs": [],
   "source": [
    "my_big_funds = get_fundamentals(big_companies,\n",
    "                                '2017-07-19')"
   ]
  },
  {
   "cell_type": "code",
   "execution_count": null,
   "metadata": {},
   "outputs": [],
   "source": [
    "# On \n",
    "my_big_funds"
   ]
  },
  {
   "cell_type": "code",
   "execution_count": null,
   "metadata": {},
   "outputs": [],
   "source": [
    "7.82 * 10 ** 11"
   ]
  },
  {
   "cell_type": "code",
   "execution_count": null,
   "metadata": {},
   "outputs": [],
   "source": [
    "#get_fundamentals()"
   ]
  },
  {
   "cell_type": "code",
   "execution_count": null,
   "metadata": {
    "collapsed": true
   },
   "outputs": [],
   "source": []
  }
 ],
 "metadata": {
  "kernelspec": {
   "display_name": "Python 3",
   "language": "python",
   "name": "python3"
  },
  "language_info": {
   "codemirror_mode": {
    "name": "ipython",
    "version": 3
   },
   "file_extension": ".py",
   "mimetype": "text/x-python",
   "name": "python",
   "nbconvert_exporter": "python",
   "pygments_lexer": "ipython3",
   "version": "3.6.1"
  }
 },
 "nbformat": 4,
 "nbformat_minor": 2
}
