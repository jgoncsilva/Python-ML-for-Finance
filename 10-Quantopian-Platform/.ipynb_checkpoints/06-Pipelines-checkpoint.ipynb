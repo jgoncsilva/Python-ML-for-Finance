{
 "cells": [
  {
   "cell_type": "markdown",
   "metadata": {},
   "source": [
    "# Pipeline\n",
    "\n",
    "This notebook is from the official Quantopian Guide on Pipelines. Make sure to visit their documentation for many more great resources!\n",
    "\n",
    "Many trading algorithms have the following structure:\n",
    "\n",
    "1. For each asset in a known (large) set, compute N scalar values for the asset based on a trailing window of data.\n",
    "2. Select a smaller tradeable set of assets based on the values computed in (1).\n",
    "3. Calculate desired portfolio weights on the set of assets selected in (2).\n",
    "4. Place orders to move the algorithm’s current portfolio allocations to the desired weights computed in (3).\n",
    "\n",
    "There are several technical challenges with doing this robustly. These include:\n",
    "\n",
    "* efficiently querying large sets of assets\n",
    "* performing computations on large sets of assets\n",
    "* handling adjustments (splits and dividends)\n",
    "* asset delistings\n",
    "\n",
    "Pipeline exists to solve these challenges by providing a uniform API for expressing computations on a diverse collection of datasets."
   ]
  },
  {
   "cell_type": "markdown",
   "metadata": {},
   "source": [
    "## Factors\n",
    "A factor is a function from an asset and a moment in time to a numerical value.\n",
    "\n",
    "A simple example of a factor is the most recent price of a security. Given a security and a specific point in time, the most recent price is a number. Another example is the 10-day average trading volume of a security. Factors are most commonly used to assign values to securities which can then be used in a number of ways. A factor can be used in each of the following procedures:\n",
    "* computing target weights\n",
    "* generating alpha signal\n",
    "* constructing other, more complex factors\n",
    "* constructing filters"
   ]
  },
  {
   "cell_type": "markdown",
   "metadata": {},
   "source": [
    "## Filters\n",
    "A filter is a function from an asset and a moment in time to a boolean.\n",
    "An example of a filter is a function indicating whether a security's price is below $10. Given a security and a point in time, this evaluates to either True or False. Filters are most commonly used for describing sets of assets to include or exclude for some particular purpose."
   ]
  },
  {
   "cell_type": "markdown",
   "metadata": {},
   "source": [
    "## Classifiers\n",
    "A classifier is a function from an asset and a moment in time to a categorical output.\n",
    "More specifically, a classifier produces a string or an int that doesn't represent a numerical value (e.g. an integer label such as a sector code). Classifiers are most commonly used for grouping assets for complex transformations on Factor outputs. An example of a classifier is the exchange on which an asset is currently being traded."
   ]
  },
  {
   "cell_type": "code",
   "execution_count": null,
   "metadata": {},
   "outputs": [],
   "source": [
    "from quantopian.pipeline import Pipeline"
   ]
  },
  {
   "cell_type": "code",
   "execution_count": null,
   "metadata": {
    "collapsed": true
   },
   "outputs": [],
   "source": [
    "def make_pipeline():\n",
    "    return Pipeline()"
   ]
  },
  {
   "cell_type": "code",
   "execution_count": null,
   "metadata": {
    "collapsed": true
   },
   "outputs": [],
   "source": [
    "pipe = make_pipeline()"
   ]
  },
  {
   "cell_type": "code",
   "execution_count": null,
   "metadata": {
    "collapsed": true
   },
   "outputs": [],
   "source": [
    "from quantopian.research import run_pipeline"
   ]
  },
  {
   "cell_type": "code",
   "execution_count": null,
   "metadata": {
    "collapsed": true
   },
   "outputs": [],
   "source": [
    "result = run_pipeline(pipe, '2017-01-01', '2017-01-01')"
   ]
  },
  {
   "cell_type": "code",
   "execution_count": null,
   "metadata": {},
   "outputs": [],
   "source": [
    "result.head(10)"
   ]
  },
  {
   "cell_type": "code",
   "execution_count": null,
   "metadata": {},
   "outputs": [],
   "source": [
    "result.info()"
   ]
  },
  {
   "cell_type": "markdown",
   "metadata": {},
   "source": [
    "# Data"
   ]
  },
  {
   "cell_type": "code",
   "execution_count": null,
   "metadata": {
    "collapsed": true
   },
   "outputs": [],
   "source": [
    "from quantopian.pipeline.data.builtin import USEquityPricing"
   ]
  },
  {
   "cell_type": "markdown",
   "metadata": {},
   "source": [
    "## Factors\n",
    "\n",
    "Remember, Factors take in an asset and a timestamp and return some numerical value."
   ]
  },
  {
   "cell_type": "code",
   "execution_count": null,
   "metadata": {
    "collapsed": true
   },
   "outputs": [],
   "source": [
    "from quantopian.pipeline.factors import BollingerBands,SimpleMovingAverage,EWMA"
   ]
  },
  {
   "cell_type": "code",
   "execution_count": null,
   "metadata": {},
   "outputs": [],
   "source": [
    "SimpleMovingAverage(inputs = [USEquityPricing.close],\n",
    "                    window_length = 30)"
   ]
  },
  {
   "cell_type": "code",
   "execution_count": null,
   "metadata": {
    "collapsed": true
   },
   "outputs": [],
   "source": [
    "def make_pipeline():\n",
    "    \n",
    "    mean_close_30 = SimpleMovingAverage(inputs = [USEquityPricing.close],\n",
    "                                        window_length = 30)\n",
    "    \n",
    "    return Pipeline(columns = {\n",
    "        '30 Day Mean Close':mean_close_30\n",
    "    })"
   ]
  },
  {
   "cell_type": "code",
   "execution_count": null,
   "metadata": {
    "collapsed": true
   },
   "outputs": [],
   "source": [
    "results = run_pipeline(make_pipeline(),\n",
    "                       '2017-01-01',\n",
    "                       '2017-01-01')"
   ]
  },
  {
   "cell_type": "code",
   "execution_count": null,
   "metadata": {},
   "outputs": [],
   "source": [
    "results.head(20)"
   ]
  },
  {
   "cell_type": "code",
   "execution_count": null,
   "metadata": {
    "collapsed": true
   },
   "outputs": [],
   "source": [
    "def make_pipeline():\n",
    "    \n",
    "    mean_close_30 = SimpleMovingAverage(inputs = [USEquityPricing.close],\n",
    "                                        window_length = 30)\n",
    "    latest_close = USEquityPricing.close.latest\n",
    "    \n",
    "    return Pipeline(columns = {\n",
    "        '30 Day Mean Close':mean_close_30,\n",
    "        'Latest Close':latest_close\n",
    "    })"
   ]
  },
  {
   "cell_type": "code",
   "execution_count": null,
   "metadata": {
    "collapsed": true
   },
   "outputs": [],
   "source": [
    "results = run_pipeline(make_pipeline(),\n",
    "                       '2017-01-01',\n",
    "                       '2017-01-01')"
   ]
  },
  {
   "cell_type": "code",
   "execution_count": null,
   "metadata": {},
   "outputs": [],
   "source": [
    "results.head(10)"
   ]
  },
  {
   "cell_type": "markdown",
   "metadata": {},
   "source": [
    "## Combining Factors"
   ]
  },
  {
   "cell_type": "code",
   "execution_count": null,
   "metadata": {},
   "outputs": [],
   "source": [
    "def make_pipeline():\n",
    "    \n",
    "    mean_close_10 = SimpleMovingAverage(inputs = [USEquityPricing.close],\n",
    "                                        window_length = 10)\n",
    "    mean_close_30 = SimpleMovingAverage(inputs = [USEquityPricing.close],\n",
    "                                        window_length = 30)\n",
    "    latest_close = USEquityPricing.close.latest\n",
    "    \n",
    "    percent_difference = (mean_close_10-mean_close_30) / mean_close_30\n",
    "    \n",
    "    return Pipeline(columns = {\n",
    "        'Percent Difference':percent_difference,\n",
    "        '30 Day Mean Close':mean_close_30,\n",
    "        'Latest Close':latest_close\n",
    "    })"
   ]
  },
  {
   "cell_type": "code",
   "execution_count": null,
   "metadata": {
    "collapsed": true
   },
   "outputs": [],
   "source": [
    "results = run_pipeline(make_pipeline(),\n",
    "                       '2017-01-01',\n",
    "                       '2017-01-01')"
   ]
  },
  {
   "cell_type": "code",
   "execution_count": null,
   "metadata": {},
   "outputs": [],
   "source": [
    "results.head()"
   ]
  },
  {
   "cell_type": "markdown",
   "metadata": {},
   "source": [
    "# Filters and Screens\n",
    "\n",
    "Filters take in an asset and a timestamp and return a boolean"
   ]
  },
  {
   "cell_type": "code",
   "execution_count": null,
   "metadata": {
    "collapsed": true
   },
   "outputs": [],
   "source": [
    "last_close_price = USEquityPricing.close.latest\n",
    "close_price_filter = last_close_price > 20"
   ]
  },
  {
   "cell_type": "code",
   "execution_count": null,
   "metadata": {},
   "outputs": [],
   "source": [
    "close_price_filter"
   ]
  },
  {
   "cell_type": "code",
   "execution_count": null,
   "metadata": {
    "collapsed": true
   },
   "outputs": [],
   "source": [
    "def make_pipeline():\n",
    "    \n",
    "    mean_close_10 = SimpleMovingAverage(inputs = [USEquityPricing.close],\n",
    "                                        window_length = 10)\n",
    "    mean_close_30 = SimpleMovingAverage(inputs = [USEquityPricing.close],\n",
    "                                        window_length = 30)\n",
    "    latest_close = USEquityPricing.close.latest\n",
    "    \n",
    "    percent_difference = (mean_close_10-mean_close_30) / mean_close_30\n",
    "    \n",
    "    perc_diff_check = percent_difference > 0 \n",
    "    \n",
    "    return Pipeline(columns = {\n",
    "        'Percent Difference':percent_difference,\n",
    "        '30 Day Mean Close':mean_close_30,\n",
    "        'Latest Close':latest_close,\n",
    "        'Positive Percent Diff': perc_diff_check\n",
    "    })"
   ]
  },
  {
   "cell_type": "code",
   "execution_count": null,
   "metadata": {},
   "outputs": [],
   "source": [
    "results = run_pipeline(make_pipeline(),\n",
    "                       '2017-01-01',\n",
    "                       '2017-01-01')\n",
    "results.head()"
   ]
  },
  {
   "cell_type": "markdown",
   "metadata": {},
   "source": [
    "## Screens"
   ]
  },
  {
   "cell_type": "code",
   "execution_count": null,
   "metadata": {
    "collapsed": true
   },
   "outputs": [],
   "source": [
    "def make_pipeline():\n",
    "    \n",
    "    mean_close_10 = SimpleMovingAverage(inputs = [USEquityPricing.close],\n",
    "                                        window_length = 10)\n",
    "    mean_close_30 = SimpleMovingAverage(inputs = [USEquityPricing.close],\n",
    "                                        window_length = 30)\n",
    "    latest_close = USEquityPricing.close.latest\n",
    "    \n",
    "    percent_difference = (mean_close_10-mean_close_30) / mean_close_30\n",
    "    \n",
    "    perc_diff_check = percent_difference > 0 \n",
    "    \n",
    "    return Pipeline(columns = {\n",
    "                            'Percent Difference':percent_difference,\n",
    "                            '30 Day Mean Close':mean_close_30,\n",
    "                            'Latest Close':latest_close,\n",
    "                            'Positive Percent Diff': perc_diff_check},\n",
    "                    screen=perc_diff_check)"
   ]
  },
  {
   "cell_type": "code",
   "execution_count": null,
   "metadata": {},
   "outputs": [],
   "source": [
    "results = run_pipeline(make_pipeline(),\n",
    "                       '2017-01-01',\n",
    "                       '2017-01-01')\n",
    "results.head()"
   ]
  },
  {
   "cell_type": "markdown",
   "metadata": {},
   "source": [
    "### Reverse a screen"
   ]
  },
  {
   "cell_type": "code",
   "execution_count": null,
   "metadata": {
    "collapsed": true
   },
   "outputs": [],
   "source": [
    "def make_pipeline():\n",
    "    \n",
    "    mean_close_10 = SimpleMovingAverage(inputs = [USEquityPricing.close],\n",
    "                                        window_length = 10)\n",
    "    mean_close_30 = SimpleMovingAverage(inputs = [USEquityPricing.close],\n",
    "                                        window_length = 30)\n",
    "    latest_close = USEquityPricing.close.latest\n",
    "    \n",
    "    percent_difference = (mean_close_10-mean_close_30) / mean_close_30\n",
    "    \n",
    "    perc_diff_check = percent_difference > 0 \n",
    "    \n",
    "    return Pipeline(columns = {\n",
    "                            'Percent Difference':percent_difference,\n",
    "                            '30 Day Mean Close':mean_close_30,\n",
    "                            'Latest Close':latest_close,\n",
    "                            'Positive Percent Diff': perc_diff_check},\n",
    "                    screen = ~perc_diff_check)"
   ]
  },
  {
   "cell_type": "code",
   "execution_count": null,
   "metadata": {},
   "outputs": [],
   "source": [
    "results = run_pipeline(make_pipeline(),\n",
    "                       '2017-01-01',\n",
    "                       '2017-01-01')\n",
    "results.head()"
   ]
  },
  {
   "cell_type": "markdown",
   "metadata": {},
   "source": [
    "## Combine Filters"
   ]
  },
  {
   "cell_type": "code",
   "execution_count": null,
   "metadata": {
    "collapsed": true
   },
   "outputs": [],
   "source": [
    "def make_pipeline():\n",
    "    \n",
    "    mean_close_10 = SimpleMovingAverage(inputs = [USEquityPricing.close],\n",
    "                                        window_length = 10)\n",
    "    mean_close_30 = SimpleMovingAverage(inputs = [USEquityPricing.close],\n",
    "                                        window_length = 30)\n",
    "    latest_close = USEquityPricing.close.latest\n",
    "    \n",
    "    percent_difference = (mean_close_10-mean_close_30) / mean_close_30\n",
    "    \n",
    "    perc_diff_check = percent_difference > 0 \n",
    "    small_price = latest_close < 5\n",
    "    \n",
    "    final_filter = perc_diff_check & small_price\n",
    "    \n",
    "    return Pipeline(columns = {\n",
    "                            'Percent Difference':percent_difference,\n",
    "                            '30 Day Mean Close':mean_close_30,\n",
    "                            'Latest Close':latest_close,\n",
    "                            'Positive Percent Diff': perc_diff_check},\n",
    "                    screen = final_filter)"
   ]
  },
  {
   "cell_type": "code",
   "execution_count": null,
   "metadata": {},
   "outputs": [],
   "source": [
    "results = run_pipeline(make_pipeline(),\n",
    "                       '2017-01-01',\n",
    "                       '2017-01-01')\n",
    "results.head()"
   ]
  },
  {
   "cell_type": "markdown",
   "metadata": {},
   "source": [
    "# Masking\n",
    "\n",
    "Sometimes we want to ignore certain assets when computing pipeline expresssions. There are two common cases where ignoring assets is useful:\n",
    "* We want to compute an expression that's computationally expensive, and we know we only care about results for certain assets.\n",
    "* We want to compute an expression that performs comparisons between assets, but we only want those comparisons to be performed against a subset of all assets. "
   ]
  },
  {
   "cell_type": "code",
   "execution_count": null,
   "metadata": {
    "collapsed": true
   },
   "outputs": [],
   "source": [
    "def make_pipeline():\n",
    "    \n",
    "    # Create Filters for Masks First\n",
    "    latest_close = USEquityPricing.close.latest\n",
    "    small_price = latest_close < 5\n",
    "    \n",
    "    # Pass in the mask\n",
    "    mean_close_10 = SimpleMovingAverage(inputs = [USEquityPricing.close],\n",
    "                                        window_length = 10,\n",
    "                                        mask = small_price)\n",
    "    mean_close_30 = SimpleMovingAverage(inputs = [USEquityPricing.close],\n",
    "                                        window_length = 30,\n",
    "                                        mask = small_price)\n",
    "    \n",
    "    \n",
    "    percent_difference = (mean_close_10-mean_close_30) / mean_close_30\n",
    "    \n",
    "    perc_diff_check = percent_difference > 0 \n",
    "    \n",
    "    \n",
    "    final_filter = perc_diff_check\n",
    "    \n",
    "    return Pipeline(columns = {\n",
    "                            'Percent Difference':percent_difference,\n",
    "                            '30 Day Mean Close':mean_close_30,\n",
    "                            'Latest Close':latest_close,\n",
    "                            'Positive Percent Diff': perc_diff_check},\n",
    "                    screen = final_filter)"
   ]
  },
  {
   "cell_type": "code",
   "execution_count": null,
   "metadata": {},
   "outputs": [],
   "source": [
    "results = run_pipeline(make_pipeline(),\n",
    "                       '2017-01-01',\n",
    "                       '2017-01-01')\n",
    "results.head()"
   ]
  },
  {
   "cell_type": "code",
   "execution_count": null,
   "metadata": {},
   "outputs": [],
   "source": [
    "len(results)"
   ]
  },
  {
   "cell_type": "markdown",
   "metadata": {},
   "source": [
    "# Classifiers\n",
    "\n",
    "A classifier is a function from an asset and a moment in time to a categorical output such as a string or integer label."
   ]
  },
  {
   "cell_type": "code",
   "execution_count": null,
   "metadata": {
    "collapsed": true
   },
   "outputs": [],
   "source": [
    "from quantopian.pipeline.data import morningstar\n",
    "from quantopian.pipeline.classifiers.morningstar import Sector"
   ]
  },
  {
   "cell_type": "code",
   "execution_count": null,
   "metadata": {
    "collapsed": true
   },
   "outputs": [],
   "source": [
    "morningstar_sector = Sector()"
   ]
  },
  {
   "cell_type": "code",
   "execution_count": null,
   "metadata": {
    "collapsed": true
   },
   "outputs": [],
   "source": [
    "exchange = morningstar.share_class_reference.exchange_id.latest"
   ]
  },
  {
   "cell_type": "code",
   "execution_count": null,
   "metadata": {},
   "outputs": [],
   "source": [
    "exchange"
   ]
  },
  {
   "cell_type": "markdown",
   "metadata": {},
   "source": [
    "### Classifier Methods\n",
    "\n",
    "* eq (equals)\n",
    "* isnull\n",
    "* startswith"
   ]
  },
  {
   "cell_type": "code",
   "execution_count": null,
   "metadata": {},
   "outputs": [],
   "source": [
    "nyse_filter = exchange.eq('NYS')"
   ]
  },
  {
   "cell_type": "code",
   "execution_count": null,
   "metadata": {
    "collapsed": true
   },
   "outputs": [],
   "source": [
    "def make_pipeline():\n",
    "    \n",
    "    # Create Filters for Masks First\n",
    "    latest_close = USEquityPricing.close.latest\n",
    "    small_price = latest_close < 5\n",
    "    \n",
    "    # Classifier\n",
    "    nyse_filter = exchange.eq('NYS')\n",
    "    \n",
    "    # Pass in the mask\n",
    "    mean_close_10 = SimpleMovingAverage(inputs = [USEquityPricing.close],\n",
    "                                        window_length = 10,\n",
    "                                        mask = small_price)\n",
    "    mean_close_30 = SimpleMovingAverage(inputs = [USEquityPricing.close],\n",
    "                                        window_length = 30,\n",
    "                                        mask = small_price)\n",
    "    \n",
    "    \n",
    "    percent_difference = (mean_close_10-mean_close_30) / mean_close_30\n",
    "    \n",
    "    perc_diff_check = percent_difference > 0 \n",
    "    \n",
    "    \n",
    "    final_filter = perc_diff_check & nyse_filter\n",
    "    \n",
    "    return Pipeline(columns = {\n",
    "                            'Percent Difference':percent_difference,\n",
    "                            '30 Day Mean Close':mean_close_30,\n",
    "                            'Latest Close':latest_close,\n",
    "                            'Positive Percent Diff': perc_diff_check},\n",
    "                    screen=final_filter)"
   ]
  },
  {
   "cell_type": "code",
   "execution_count": null,
   "metadata": {},
   "outputs": [],
   "source": [
    "results = run_pipeline(make_pipeline(),\n",
    "                       '2017-01-01',\n",
    "                       '2017-01-01')\n",
    "results.head()"
   ]
  },
  {
   "cell_type": "code",
   "execution_count": null,
   "metadata": {},
   "outputs": [],
   "source": [
    "len(results)"
   ]
  },
  {
   "cell_type": "markdown",
   "metadata": {},
   "source": [
    "# Pipelines in Quantopian IDE"
   ]
  },
  {
   "cell_type": "code",
   "execution_count": null,
   "metadata": {
    "collapsed": true
   },
   "outputs": [],
   "source": [
    "from quantopian.pipeline import Pipeline\n",
    "from quantopian.algorithm import attach_pipeline, pipeline_output\n",
    "\n",
    "def initialize(context):\n",
    "    my_pipe = make_pipeline()\n",
    "    attach_pipeline(my_pipe, 'my_pipeline')\n",
    "\n",
    "def make_pipeline():\n",
    "    return Pipeline()\n",
    "\n",
    "def before_trading_start(context, data):\n",
    "    # Store our pipeline output DataFrame in context.\n",
    "    context.output = pipeline_output('my_pipeline')"
   ]
  },
  {
   "cell_type": "code",
   "execution_count": null,
   "metadata": {
    "collapsed": true
   },
   "outputs": [],
   "source": []
  }
 ],
 "metadata": {
  "kernelspec": {
   "display_name": "Python 3",
   "language": "python",
   "name": "python3"
  },
  "language_info": {
   "codemirror_mode": {
    "name": "ipython",
    "version": 3
   },
   "file_extension": ".py",
   "mimetype": "text/x-python",
   "name": "python",
   "nbconvert_exporter": "python",
   "pygments_lexer": "ipython3",
   "version": "3.6.1"
  }
 },
 "nbformat": 4,
 "nbformat_minor": 2
}
