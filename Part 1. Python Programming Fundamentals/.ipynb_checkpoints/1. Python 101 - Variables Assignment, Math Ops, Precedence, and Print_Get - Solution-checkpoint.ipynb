{
 "cells": [
  {
   "cell_type": "markdown",
   "metadata": {
    "colab_type": "text",
    "id": "B1KBXIYhkuw5"
   },
   "source": [
    "# 1. VARIABLES ASSIGNMENT"
   ]
  },
  {
   "cell_type": "code",
   "execution_count": null,
   "metadata": {
    "colab": {},
    "colab_type": "code",
    "id": "wsrqiWxMlQcd"
   },
   "outputs": [],
   "source": [
    "# Define a variable named \"portfolio_1\" and assign a number (integer) to it\n",
    "# integer is a whole number (no decimals) that could be positive or negative\n",
    "\n",
    "portfolio_1 = 5000"
   ]
  },
  {
   "cell_type": "code",
   "execution_count": null,
   "metadata": {
    "colab": {
     "base_uri": "https://localhost:8080/",
     "height": 34
    },
    "colab_type": "code",
    "executionInfo": {
     "elapsed": 354,
     "status": "ok",
     "timestamp": 1599877021043,
     "user": {
      "displayName": "Stemplicity",
      "photoUrl": "https://lh3.googleusercontent.com/a-/AOh14Gj2vCFt-bD5mPBhUWX0QA6xiBgoXQXtwUm2jgjaCg=s64",
      "userId": "10668071569687886186"
     },
     "user_tz": 240
    },
    "id": "_7BUQ4lalVpE",
    "outputId": "4bae65ac-1204-49c6-fcf7-1a661884418e"
   },
   "outputs": [
    {
     "data": {
      "text/plain": [
       "5000"
      ]
     },
     "execution_count": 8,
     "metadata": {
      "tags": []
     },
     "output_type": "execute_result"
    }
   ],
   "source": [
    "# Let's view \"portfolio_1\"\n",
    "portfolio_1"
   ]
  },
  {
   "cell_type": "code",
   "execution_count": null,
   "metadata": {
    "colab": {},
    "colab_type": "code",
    "id": "5RLjbN6alXBn"
   },
   "outputs": [],
   "source": [
    "# Define a variable named \"portfolio_2\" and assign a number (float) to it\n",
    "# Float are real numbers with a decimal point dividing the integer and fractional parts\n",
    "\n",
    "portfolio_2 = 2000.5"
   ]
  },
  {
   "cell_type": "code",
   "execution_count": null,
   "metadata": {
    "colab": {
     "base_uri": "https://localhost:8080/",
     "height": 34
    },
    "colab_type": "code",
    "executionInfo": {
     "elapsed": 297,
     "status": "ok",
     "timestamp": 1599877036160,
     "user": {
      "displayName": "Stemplicity",
      "photoUrl": "https://lh3.googleusercontent.com/a-/AOh14Gj2vCFt-bD5mPBhUWX0QA6xiBgoXQXtwUm2jgjaCg=s64",
      "userId": "10668071569687886186"
     },
     "user_tz": 240
    },
    "id": "XaseHcnvlY7V",
    "outputId": "e886730f-84da-4dd3-84a5-0e19f75f8427"
   },
   "outputs": [
    {
     "data": {
      "text/plain": [
       "2000.5"
      ]
     },
     "execution_count": 11,
     "metadata": {
      "tags": []
     },
     "output_type": "execute_result"
    }
   ],
   "source": [
    "# Let's view \"portfolio_2\"\n",
    "portfolio_2"
   ]
  },
  {
   "cell_type": "code",
   "execution_count": null,
   "metadata": {
    "colab": {},
    "colab_type": "code",
    "id": "1treMfL5phXx"
   },
   "outputs": [],
   "source": [
    "# Let's overwrite \"portfolio_2\" (assume your portfolio value increased)\n",
    "portfolio_2 = 3000.5"
   ]
  },
  {
   "cell_type": "code",
   "execution_count": null,
   "metadata": {
    "colab": {
     "base_uri": "https://localhost:8080/",
     "height": 34
    },
    "colab_type": "code",
    "executionInfo": {
     "elapsed": 295,
     "status": "ok",
     "timestamp": 1599877113282,
     "user": {
      "displayName": "Stemplicity",
      "photoUrl": "https://lh3.googleusercontent.com/a-/AOh14Gj2vCFt-bD5mPBhUWX0QA6xiBgoXQXtwUm2jgjaCg=s64",
      "userId": "10668071569687886186"
     },
     "user_tz": 240
    },
    "id": "QaBaDH0fp5cf",
    "outputId": "74bbd5d9-33bc-42ae-c770-37d7b2a498af"
   },
   "outputs": [
    {
     "data": {
      "text/plain": [
       "3000.5"
      ]
     },
     "execution_count": 14,
     "metadata": {
      "tags": []
     },
     "output_type": "execute_result"
    }
   ],
   "source": [
    "# Notice that \"portfolio_2\" will only contain the most recent value\n",
    "portfolio_2"
   ]
  },
  {
   "cell_type": "code",
   "execution_count": null,
   "metadata": {
    "colab": {
     "base_uri": "https://localhost:8080/",
     "height": 34
    },
    "colab_type": "code",
    "executionInfo": {
     "elapsed": 372,
     "status": "ok",
     "timestamp": 1599877130321,
     "user": {
      "displayName": "Stemplicity",
      "photoUrl": "https://lh3.googleusercontent.com/a-/AOh14Gj2vCFt-bD5mPBhUWX0QA6xiBgoXQXtwUm2jgjaCg=s64",
      "userId": "10668071569687886186"
     },
     "user_tz": 240
    },
    "id": "fqZRkUkilb-5",
    "outputId": "7133e994-5cf2-4425-a03b-a7a280761a9a"
   },
   "outputs": [
    {
     "data": {
      "text/plain": [
       "int"
      ]
     },
     "execution_count": 15,
     "metadata": {
      "tags": []
     },
     "output_type": "execute_result"
    }
   ],
   "source": [
    "# Get the type of \"portfolio_1\" which is integer\n",
    "# integer is a whole number (no decimals) that could be positive or negative\n",
    "type(portfolio_1)"
   ]
  },
  {
   "cell_type": "code",
   "execution_count": null,
   "metadata": {
    "colab": {
     "base_uri": "https://localhost:8080/",
     "height": 34
    },
    "colab_type": "code",
    "executionInfo": {
     "elapsed": 291,
     "status": "ok",
     "timestamp": 1599877146541,
     "user": {
      "displayName": "Stemplicity",
      "photoUrl": "https://lh3.googleusercontent.com/a-/AOh14Gj2vCFt-bD5mPBhUWX0QA6xiBgoXQXtwUm2jgjaCg=s64",
      "userId": "10668071569687886186"
     },
     "user_tz": 240
    },
    "id": "T0Rszu5xlceK",
    "outputId": "8cd5eebc-337f-47a2-fca1-97a17568d3d5"
   },
   "outputs": [
    {
     "data": {
      "text/plain": [
       "float"
      ]
     },
     "execution_count": 16,
     "metadata": {
      "tags": []
     },
     "output_type": "execute_result"
    }
   ],
   "source": [
    "# Get the type of \"portfolio_2\" which is float\n",
    "# Float are real numbers with a decimal point dividing the integer and fractional parts\n",
    "type(portfolio_2)"
   ]
  },
  {
   "cell_type": "markdown",
   "metadata": {
    "colab_type": "text",
    "id": "75YN6NcVlv50"
   },
   "source": [
    "**MINI CHALLENGE #1:**\n",
    "- **We defined a variable AMZN (Ticker symbol for Amazon stock) and we assigned these 3 values listed below to it. Without executing any code cells, what will these lines of code generate?**\n",
    "- **Verify your answer by executing the code cells** \n",
    "\n",
    "\n",
    "\n",
    "```\n",
    "AMZN = 3324\n",
    "AMZN = 3400\n",
    "AMZN = 3530\n",
    "AMZN\n",
    "```\n"
   ]
  },
  {
   "cell_type": "code",
   "execution_count": null,
   "metadata": {
    "colab": {},
    "colab_type": "code",
    "id": "AbXq1BsUpcpu"
   },
   "outputs": [],
   "source": []
  },
  {
   "cell_type": "markdown",
   "metadata": {
    "colab_type": "text",
    "id": "m-cJsnjeoFOa"
   },
   "source": [
    "**MINI CHALLENGE #2:**\n",
    "- **We defined a variable AAPL (Ticker symbol for Apple stock) and we assigned these 2 values listed below to it. Without executing any code cells, what will these lines of code generate?**\n",
    "- **Verify your answer by executing the code cells** \n",
    "\n",
    "\n",
    "\n",
    "```\n",
    "AAPL = 112\n",
    "AAPL = 115.3\n",
    "type(AAPL)\n",
    "```\n"
   ]
  },
  {
   "cell_type": "code",
   "execution_count": null,
   "metadata": {
    "colab": {},
    "colab_type": "code",
    "id": "wjaFVDJ2oESl"
   },
   "outputs": [],
   "source": []
  },
  {
   "cell_type": "markdown",
   "metadata": {
    "colab_type": "text",
    "id": "lsCfJJEkkqGQ"
   },
   "source": [
    "# 2. MATH OPERATIONS"
   ]
  },
  {
   "cell_type": "code",
   "execution_count": null,
   "metadata": {
    "colab": {
     "base_uri": "https://localhost:8080/",
     "height": 34
    },
    "colab_type": "code",
    "executionInfo": {
     "elapsed": 285,
     "status": "ok",
     "timestamp": 1599877700085,
     "user": {
      "displayName": "Stemplicity",
      "photoUrl": "https://lh3.googleusercontent.com/a-/AOh14Gj2vCFt-bD5mPBhUWX0QA6xiBgoXQXtwUm2jgjaCg=s64",
      "userId": "10668071569687886186"
     },
     "user_tz": 240
    },
    "id": "vxspxvj2qTrx",
    "outputId": "0b8fdacc-8ab7-47db-b20c-a343c81bce70"
   },
   "outputs": [
    {
     "data": {
      "text/plain": [
       "6"
      ]
     },
     "execution_count": 17,
     "metadata": {
      "tags": []
     },
     "output_type": "execute_result"
    }
   ],
   "source": [
    "# Define a variable named AAPL and initialize it with 5 indicating that we own 5 stocks\n",
    "# Let's assume that we bought an additional stock so now we have 6 stocks instead of 5 \n",
    "# We can increment AAPL by 1 stock as follows:\n",
    "AAPL = 5\n",
    "AAPL = AAPL + 1 \n",
    "AAPL "
   ]
  },
  {
   "cell_type": "code",
   "execution_count": null,
   "metadata": {
    "colab": {
     "base_uri": "https://localhost:8080/",
     "height": 34
    },
    "colab_type": "code",
    "executionInfo": {
     "elapsed": 282,
     "status": "ok",
     "timestamp": 1599877721886,
     "user": {
      "displayName": "Stemplicity",
      "photoUrl": "https://lh3.googleusercontent.com/a-/AOh14Gj2vCFt-bD5mPBhUWX0QA6xiBgoXQXtwUm2jgjaCg=s64",
      "userId": "10668071569687886186"
     },
     "user_tz": 240
    },
    "id": "ouiM4Bjar5aG",
    "outputId": "94ac0274-d026-4835-c244-55bbd7f3b79f"
   },
   "outputs": [
    {
     "data": {
      "text/plain": [
       "6"
      ]
     },
     "execution_count": 18,
     "metadata": {
      "tags": []
     },
     "output_type": "execute_result"
    }
   ],
   "source": [
    "# Alternatively, we can increment the variable AAPL by 1 as follows:\n",
    "AAPL = 5\n",
    "AAPL += 1 \n",
    "AAPL"
   ]
  },
  {
   "cell_type": "code",
   "execution_count": null,
   "metadata": {
    "colab": {
     "base_uri": "https://localhost:8080/",
     "height": 34
    },
    "colab_type": "code",
    "executionInfo": {
     "elapsed": 381,
     "status": "ok",
     "timestamp": 1599877915917,
     "user": {
      "displayName": "Stemplicity",
      "photoUrl": "https://lh3.googleusercontent.com/a-/AOh14Gj2vCFt-bD5mPBhUWX0QA6xiBgoXQXtwUm2jgjaCg=s64",
      "userId": "10668071569687886186"
     },
     "user_tz": 240
    },
    "id": "zkO001-qcZc3",
    "outputId": "b56d5261-012b-4b77-c0e2-be7fe5f2f818"
   },
   "outputs": [
    {
     "data": {
      "text/plain": [
       "1300"
      ]
     },
     "execution_count": 20,
     "metadata": {
      "tags": []
     },
     "output_type": "execute_result"
    }
   ],
   "source": [
    "# Let's assume that the price of AAPL stock is $260 and we currently have 5 AAPL stocks in our portfolio\n",
    "# We can calculate the total portfolio value (account balance) as follows:\n",
    "AAPL_count = 5\n",
    "AAPL_price = 260\n",
    "account_balance = AAPL_count * AAPL_price\n",
    "account_balance"
   ]
  },
  {
   "cell_type": "code",
   "execution_count": null,
   "metadata": {
    "colab": {
     "base_uri": "https://localhost:8080/",
     "height": 34
    },
    "colab_type": "code",
    "executionInfo": {
     "elapsed": 284,
     "status": "ok",
     "timestamp": 1599878112601,
     "user": {
      "displayName": "Stemplicity",
      "photoUrl": "https://lh3.googleusercontent.com/a-/AOh14Gj2vCFt-bD5mPBhUWX0QA6xiBgoXQXtwUm2jgjaCg=s64",
      "userId": "10668071569687886186"
     },
     "user_tz": 240
    },
    "id": "4bXP93aqejr1",
    "outputId": "cce1fe3d-e8c8-4375-9753-30b69701245f"
   },
   "outputs": [
    {
     "data": {
      "text/plain": [
       "20000"
      ]
     },
     "execution_count": 21,
     "metadata": {
      "tags": []
     },
     "output_type": "execute_result"
    }
   ],
   "source": [
    "# Let's assume you have $20000 USD in our account\n",
    "# We want to buy AMZN stocks using the total amount \n",
    "# AMZN stock is priced at $3116 each\n",
    "\n",
    "account_balance = 20000\n",
    "account_balance "
   ]
  },
  {
   "cell_type": "code",
   "execution_count": null,
   "metadata": {
    "colab": {
     "base_uri": "https://localhost:8080/",
     "height": 34
    },
    "colab_type": "code",
    "executionInfo": {
     "elapsed": 278,
     "status": "ok",
     "timestamp": 1599878171712,
     "user": {
      "displayName": "Stemplicity",
      "photoUrl": "https://lh3.googleusercontent.com/a-/AOh14Gj2vCFt-bD5mPBhUWX0QA6xiBgoXQXtwUm2jgjaCg=s64",
      "userId": "10668071569687886186"
     },
     "user_tz": 240
    },
    "id": "Mc569vLOqxzg",
    "outputId": "75d7e123-713b-4f25-c057-f68756b2e2e3"
   },
   "outputs": [
    {
     "data": {
      "text/plain": [
       "6.418485237483954"
      ]
     },
     "execution_count": 23,
     "metadata": {
      "tags": []
     },
     "output_type": "execute_result"
    }
   ],
   "source": [
    "# Divide the account balance by Amazon stock price and place the answer in units\n",
    "AMZN_price = 3116 \n",
    "units = account_balance/AMZN_price\n",
    "units"
   ]
  },
  {
   "cell_type": "markdown",
   "metadata": {
    "colab_type": "text",
    "id": "8UaT7FRdNnCQ"
   },
   "source": [
    "**MINI CHALLENGE #3:** \n",
    "- **Write a code that calculates the total value of a portfolio assuming that you own 15 Google stocks (Sticker Symbol: GOOG) priced at 1500 each** \n"
   ]
  },
  {
   "cell_type": "code",
   "execution_count": null,
   "metadata": {
    "colab": {},
    "colab_type": "code",
    "id": "qMFnXorONnoa"
   },
   "outputs": [],
   "source": []
  },
  {
   "cell_type": "markdown",
   "metadata": {
    "colab_type": "text",
    "id": "iB_6pgJeNnCV"
   },
   "source": [
    "**MINI CHALLENGE #4:**\n",
    "- **Write a code that takes in Google (GOOG) stock prices at two days and calculate the return:**\n",
    "  - **GOOG price on day 1 = \\$260** \n",
    "  - **GOOG price on day 2 = \\$280**"
   ]
  },
  {
   "cell_type": "markdown",
   "metadata": {
    "colab_type": "text",
    "id": "b_4wxmCklMQE"
   },
   "source": [
    "# 3. ORDER OF OPERATIONS (PRECEDENCE)"
   ]
  },
  {
   "cell_type": "code",
   "execution_count": null,
   "metadata": {
    "colab": {
     "base_uri": "https://localhost:8080/",
     "height": 34
    },
    "colab_type": "code",
    "executionInfo": {
     "elapsed": 573,
     "status": "ok",
     "timestamp": 1597605348235,
     "user": {
      "displayName": "Stemplicity",
      "photoUrl": "https://lh3.googleusercontent.com/a-/AOh14Gj2vCFt-bD5mPBhUWX0QA6xiBgoXQXtwUm2jgjaCg=s64",
      "userId": "10668071569687886186"
     },
     "user_tz": 240
    },
    "id": "PDPpISzEkov3",
    "outputId": "bab0da5f-a05b-441d-d2e8-362303dcb6b7"
   },
   "outputs": [
    {
     "data": {
      "text/plain": [
       "35"
      ]
     },
     "execution_count": 42,
     "metadata": {
      "tags": []
     },
     "output_type": "execute_result"
    }
   ],
   "source": [
    "# add 3 and 4 and then multiply the answer by 5\n",
    "# Note that parantheses have the highest precedence\n",
    "(3 + 4) * 5"
   ]
  },
  {
   "cell_type": "code",
   "execution_count": null,
   "metadata": {
    "colab": {
     "base_uri": "https://localhost:8080/",
     "height": 34
    },
    "colab_type": "code",
    "executionInfo": {
     "elapsed": 638,
     "status": "ok",
     "timestamp": 1597605363759,
     "user": {
      "displayName": "Stemplicity",
      "photoUrl": "https://lh3.googleusercontent.com/a-/AOh14Gj2vCFt-bD5mPBhUWX0QA6xiBgoXQXtwUm2jgjaCg=s64",
      "userId": "10668071569687886186"
     },
     "user_tz": 240
    },
    "id": "lqvGyX4psG6L",
    "outputId": "ad8828e0-fc00-4dcd-90ea-a8fb2789a7c4"
   },
   "outputs": [
    {
     "data": {
      "text/plain": [
       "7"
      ]
     },
     "execution_count": 44,
     "metadata": {
      "tags": []
     },
     "output_type": "execute_result"
    }
   ],
   "source": [
    "# Multiplication has higher precedence compared to addition\n",
    "1 + 2 * 3"
   ]
  },
  {
   "cell_type": "code",
   "execution_count": null,
   "metadata": {
    "colab": {
     "base_uri": "https://localhost:8080/",
     "height": 34
    },
    "colab_type": "code",
    "executionInfo": {
     "elapsed": 562,
     "status": "ok",
     "timestamp": 1597605392609,
     "user": {
      "displayName": "Stemplicity",
      "photoUrl": "https://lh3.googleusercontent.com/a-/AOh14Gj2vCFt-bD5mPBhUWX0QA6xiBgoXQXtwUm2jgjaCg=s64",
      "userId": "10668071569687886186"
     },
     "user_tz": 240
    },
    "id": "Nx2IPN34sI0A",
    "outputId": "477d26b9-9068-4639-8393-b2992fd02f00"
   },
   "outputs": [
    {
     "data": {
      "text/plain": [
       "9.0"
      ]
     },
     "execution_count": 46,
     "metadata": {
      "tags": []
     },
     "output_type": "execute_result"
    }
   ],
   "source": [
    "# Division has higher precedence compared to addition\n",
    "16 / 4 + 25 / 5"
   ]
  },
  {
   "cell_type": "code",
   "execution_count": null,
   "metadata": {
    "colab": {},
    "colab_type": "code",
    "id": "A-sBw_wsdRTc"
   },
   "outputs": [],
   "source": []
  },
  {
   "cell_type": "markdown",
   "metadata": {
    "colab_type": "text",
    "id": "LD0jeVJddRrf"
   },
   "source": [
    "**MINI CHALLENGE #5:**\n",
    "- **Assume that you own 15 shares of AAPL stock priced at \\$150 a share. Apple announced the launch of 5 new products with exceptional features so the stock price increased to $170 a share. Calculate the total profit.**\n",
    "\n",
    "\n",
    "\n",
    "\n"
   ]
  },
  {
   "cell_type": "code",
   "execution_count": null,
   "metadata": {
    "colab": {},
    "colab_type": "code",
    "id": "ieENt2DUNwDC"
   },
   "outputs": [],
   "source": []
  },
  {
   "cell_type": "markdown",
   "metadata": {
    "colab_type": "text",
    "id": "s79S7MtycPGX"
   },
   "source": [
    "**MINI CHALLENGE #6:** \n",
    "- **Write a code that performs the following mathematical operation: z = |x − y| * (x + y)**"
   ]
  },
  {
   "cell_type": "code",
   "execution_count": null,
   "metadata": {
    "colab": {},
    "colab_type": "code",
    "id": "yGVvKkDKc0LR"
   },
   "outputs": [],
   "source": []
  },
  {
   "cell_type": "markdown",
   "metadata": {
    "colab_type": "text",
    "id": "Jvxd_A696qnl"
   },
   "source": [
    "# 4. PRINT OPERATION"
   ]
  },
  {
   "cell_type": "code",
   "execution_count": null,
   "metadata": {
    "colab": {},
    "colab_type": "code",
    "id": "74NV4Ix36wE2"
   },
   "outputs": [],
   "source": [
    "# Print function is used to print elements on the screen\n",
    "# Define a string x \n",
    "# A string in Python is a sequence of characters\n",
    "# String in python are surrounded by single or double quotation marks\n",
    "x = \"Welcome to Python for Finance course\""
   ]
  },
  {
   "cell_type": "code",
   "execution_count": null,
   "metadata": {
    "colab": {
     "base_uri": "https://localhost:8080/",
     "height": 34
    },
    "colab_type": "code",
    "executionInfo": {
     "elapsed": 345,
     "status": "ok",
     "timestamp": 1599879369638,
     "user": {
      "displayName": "Stemplicity",
      "photoUrl": "https://lh3.googleusercontent.com/a-/AOh14Gj2vCFt-bD5mPBhUWX0QA6xiBgoXQXtwUm2jgjaCg=s64",
      "userId": "10668071569687886186"
     },
     "user_tz": 240
    },
    "id": "08UQhKoR8d3H",
    "outputId": "2c13df56-e0f3-43b7-a260-11f7b5229e93"
   },
   "outputs": [
    {
     "data": {
      "text/plain": [
       "str"
      ]
     },
     "execution_count": 35,
     "metadata": {
      "tags": []
     },
     "output_type": "execute_result"
    }
   ],
   "source": [
    "# Obtain the data type for 'x'\n",
    "type(x)"
   ]
  },
  {
   "cell_type": "code",
   "execution_count": null,
   "metadata": {
    "colab": {
     "base_uri": "https://localhost:8080/",
     "height": 34
    },
    "colab_type": "code",
    "executionInfo": {
     "elapsed": 283,
     "status": "ok",
     "timestamp": 1599879371560,
     "user": {
      "displayName": "Stemplicity",
      "photoUrl": "https://lh3.googleusercontent.com/a-/AOh14Gj2vCFt-bD5mPBhUWX0QA6xiBgoXQXtwUm2jgjaCg=s64",
      "userId": "10668071569687886186"
     },
     "user_tz": 240
    },
    "id": "1nHBcL7D61YQ",
    "outputId": "2b17b25d-d198-4e56-bf74-b5a61b7aa84a"
   },
   "outputs": [
    {
     "name": "stdout",
     "output_type": "stream",
     "text": [
      "Welcome to Python for Finance course\n"
     ]
    }
   ],
   "source": [
    "# Print x\n",
    "print(x)"
   ]
  },
  {
   "cell_type": "code",
   "execution_count": null,
   "metadata": {
    "colab": {},
    "colab_type": "code",
    "id": "7JUqe3DF7WQv"
   },
   "outputs": [],
   "source": [
    "# Define a string and put 'Apple Inc.' in it\n",
    "company_name = \"Apple Inc.\""
   ]
  },
  {
   "cell_type": "code",
   "execution_count": null,
   "metadata": {
    "colab": {
     "base_uri": "https://localhost:8080/",
     "height": 34
    },
    "colab_type": "code",
    "executionInfo": {
     "elapsed": 310,
     "status": "ok",
     "timestamp": 1599879417204,
     "user": {
      "displayName": "Stemplicity",
      "photoUrl": "https://lh3.googleusercontent.com/a-/AOh14Gj2vCFt-bD5mPBhUWX0QA6xiBgoXQXtwUm2jgjaCg=s64",
      "userId": "10668071569687886186"
     },
     "user_tz": 240
    },
    "id": "J_r5_BGt7Wsg",
    "outputId": "56eb76e2-d035-4130-d043-6e3a6ffecc53"
   },
   "outputs": [
    {
     "name": "stdout",
     "output_type": "stream",
     "text": [
      "Ticker name for Apple Inc. is AAPL\n"
     ]
    }
   ],
   "source": [
    "# The format() method formats the specified value and insert it in the placeholder. \n",
    "# The placeholder is defined using curly braces: {}\n",
    "print(\"Ticker name for {} is AAPL\".format(company_name))"
   ]
  },
  {
   "cell_type": "code",
   "execution_count": null,
   "metadata": {
    "colab": {},
    "colab_type": "code",
    "id": "cn5wkGcL7Wqs"
   },
   "outputs": [],
   "source": [
    "shares = 30"
   ]
  },
  {
   "cell_type": "code",
   "execution_count": null,
   "metadata": {
    "colab": {
     "base_uri": "https://localhost:8080/",
     "height": 34
    },
    "colab_type": "code",
    "executionInfo": {
     "elapsed": 342,
     "status": "ok",
     "timestamp": 1599879443632,
     "user": {
      "displayName": "Stemplicity",
      "photoUrl": "https://lh3.googleusercontent.com/a-/AOh14Gj2vCFt-bD5mPBhUWX0QA6xiBgoXQXtwUm2jgjaCg=s64",
      "userId": "10668071569687886186"
     },
     "user_tz": 240
    },
    "id": "mcIEXuw47Wpk",
    "outputId": "122545d3-f254-4cb9-ca92-e8e5a7116edb"
   },
   "outputs": [
    {
     "name": "stdout",
     "output_type": "stream",
     "text": [
      "I own 30 shares of Apple Inc.\n"
     ]
    }
   ],
   "source": [
    "# You can place two or more placeholders with print function \n",
    "print(\"I own {} shares of {}\".format(shares, company_name))"
   ]
  },
  {
   "cell_type": "markdown",
   "metadata": {
    "colab_type": "text",
    "id": "__Ybj8rmGKpY"
   },
   "source": [
    "**MINI CHALLENGE #7:**\n",
    "- **Write a code that print out the above statement along with AAPL ticker**\n",
    "- **i.e.: I own 30 shares of Apple Inc.(AAPL)** "
   ]
  },
  {
   "cell_type": "code",
   "execution_count": null,
   "metadata": {
    "colab": {},
    "colab_type": "code",
    "id": "i6LmOCF6Gd6G"
   },
   "outputs": [],
   "source": []
  },
  {
   "cell_type": "markdown",
   "metadata": {
    "colab_type": "text",
    "id": "hp9P-qXN-Gll"
   },
   "source": [
    "# 5. GET USER INPUT"
   ]
  },
  {
   "cell_type": "code",
   "execution_count": null,
   "metadata": {
    "colab": {
     "base_uri": "https://localhost:8080/",
     "height": 50
    },
    "colab_type": "code",
    "executionInfo": {
     "elapsed": 4402,
     "status": "ok",
     "timestamp": 1599879705281,
     "user": {
      "displayName": "Stemplicity",
      "photoUrl": "https://lh3.googleusercontent.com/a-/AOh14Gj2vCFt-bD5mPBhUWX0QA6xiBgoXQXtwUm2jgjaCg=s64",
      "userId": "10668071569687886186"
     },
     "user_tz": 240
    },
    "id": "FFghOQVi7Wh_",
    "outputId": "4e046b2f-7538-4ae0-d24c-b203f3357280"
   },
   "outputs": [
    {
     "name": "stdout",
     "output_type": "stream",
     "text": [
      "Welcome to the bank, What's your name: Ryan\n",
      "Hello Ryan\n"
     ]
    }
   ],
   "source": [
    "# input is a built-in function in python\n",
    "# Get bank client name as an input and print it out on the screen \n",
    "name = input(\"Welcome to the bank, What's your name: \")\n",
    "print('Hello', name)"
   ]
  },
  {
   "cell_type": "code",
   "execution_count": null,
   "metadata": {
    "colab": {
     "base_uri": "https://localhost:8080/",
     "height": 84
    },
    "colab_type": "code",
    "executionInfo": {
     "elapsed": 5561,
     "status": "ok",
     "timestamp": 1599879866294,
     "user": {
      "displayName": "Stemplicity",
      "photoUrl": "https://lh3.googleusercontent.com/a-/AOh14Gj2vCFt-bD5mPBhUWX0QA6xiBgoXQXtwUm2jgjaCg=s64",
      "userId": "10668071569687886186"
     },
     "user_tz": 240
    },
    "id": "u4D5GDGP7Wgm",
    "outputId": "dae766ba-3d17-43b6-8c72-37a13e95df1c"
   },
   "outputs": [
    {
     "name": "stdout",
     "output_type": "stream",
     "text": [
      "Welcome to the bank, please enter your name: ryan\n",
      "Enter your age: 32\n",
      "Enter your total networth (assets - liabilities): 3000\n",
      "My name is ryan, I am 32 years old, and my estimated networth is = 3000\n"
     ]
    }
   ],
   "source": [
    "# Obtain bank client data such as name, age and assets and print them all out on the screen\n",
    "name = input(\"Welcome to the bank, please enter your name: \")\n",
    "age = input(\"Enter your age: \")\n",
    "networth = input(\"Enter your total networth (assets - liabilities): \")\n",
    "print(\"My name is {}, I am {} years old, and my estimated networth is = {}\".format(name, age, networth))"
   ]
  },
  {
   "cell_type": "code",
   "execution_count": null,
   "metadata": {
    "colab": {
     "base_uri": "https://localhost:8080/",
     "height": 229
    },
    "colab_type": "code",
    "executionInfo": {
     "elapsed": 4820,
     "status": "error",
     "timestamp": 1599880050119,
     "user": {
      "displayName": "Stemplicity",
      "photoUrl": "https://lh3.googleusercontent.com/a-/AOh14Gj2vCFt-bD5mPBhUWX0QA6xiBgoXQXtwUm2jgjaCg=s64",
      "userId": "10668071569687886186"
     },
     "user_tz": 240
    },
    "id": "W6hQp4YP7Wdr",
    "outputId": "b6b8c038-3c9d-430d-f59e-ebbbd0c7d327"
   },
   "outputs": [
    {
     "name": "stdout",
     "output_type": "stream",
     "text": [
      "Enter the price of AAPL stock today: 3000\n",
      "Enter the number of APPLE stocks that you want to buy: 20\n"
     ]
    },
    {
     "ename": "TypeError",
     "evalue": "ignored",
     "output_type": "error",
     "traceback": [
      "\u001b[0;31m---------------------------------------------------------------------------\u001b[0m",
      "\u001b[0;31mTypeError\u001b[0m                                 Traceback (most recent call last)",
      "\u001b[0;32m<ipython-input-57-8ad23f4fd66e>\u001b[0m in \u001b[0;36m<module>\u001b[0;34m()\u001b[0m\n\u001b[1;32m      3\u001b[0m \u001b[0mx\u001b[0m \u001b[0;34m=\u001b[0m \u001b[0minput\u001b[0m\u001b[0;34m(\u001b[0m\u001b[0;34m\"Enter the price of AAPL stock today: \"\u001b[0m\u001b[0;34m)\u001b[0m\u001b[0;34m\u001b[0m\u001b[0;34m\u001b[0m\u001b[0m\n\u001b[1;32m      4\u001b[0m \u001b[0my\u001b[0m \u001b[0;34m=\u001b[0m \u001b[0minput\u001b[0m\u001b[0;34m(\u001b[0m\u001b[0;34m\"Enter the number of APPLE stocks that you want to buy: \"\u001b[0m\u001b[0;34m)\u001b[0m\u001b[0;34m\u001b[0m\u001b[0;34m\u001b[0m\u001b[0m\n\u001b[0;32m----> 5\u001b[0;31m \u001b[0mprint\u001b[0m\u001b[0;34m(\u001b[0m\u001b[0;34m'The total funds required to buy {} shares of AAPL stock at {} price is {}'\u001b[0m\u001b[0;34m.\u001b[0m\u001b[0mformat\u001b[0m\u001b[0;34m(\u001b[0m\u001b[0my\u001b[0m\u001b[0;34m,\u001b[0m \u001b[0mx\u001b[0m\u001b[0;34m,\u001b[0m \u001b[0mx\u001b[0m\u001b[0;34m*\u001b[0m\u001b[0my\u001b[0m\u001b[0;34m)\u001b[0m\u001b[0;34m)\u001b[0m\u001b[0;34m\u001b[0m\u001b[0;34m\u001b[0m\u001b[0m\n\u001b[0m",
      "\u001b[0;31mTypeError\u001b[0m: can't multiply sequence by non-int of type 'str'"
     ]
    }
   ],
   "source": [
    "# Obtain user inputs, perform mathematical operation, and print the results \n",
    "# Note: Are you getting an error? Move to the next code cell \n",
    "x = input(\"Enter the price of AAPL stock today: \")\n",
    "y = input(\"Enter the number of APPLE stocks that you want to buy: \")\n",
    "print('The total funds required to buy {} shares of AAPL stock at {} dollars is {}'.format(y, x, x*y)) "
   ]
  },
  {
   "cell_type": "code",
   "execution_count": null,
   "metadata": {
    "colab": {
     "base_uri": "https://localhost:8080/",
     "height": 67
    },
    "colab_type": "code",
    "executionInfo": {
     "elapsed": 3741,
     "status": "ok",
     "timestamp": 1599880059640,
     "user": {
      "displayName": "Stemplicity",
      "photoUrl": "https://lh3.googleusercontent.com/a-/AOh14Gj2vCFt-bD5mPBhUWX0QA6xiBgoXQXtwUm2jgjaCg=s64",
      "userId": "10668071569687886186"
     },
     "user_tz": 240
    },
    "id": "abPg-86q7Waq",
    "outputId": "2a25f7ae-d458-48c0-80b4-6ec460cc1f62"
   },
   "outputs": [
    {
     "name": "stdout",
     "output_type": "stream",
     "text": [
      "Enter the price of AAPL stock today: 3000\n",
      "Enter the number of APPLE stocks that you want to buy: 5\n",
      "The total funds required to buy 5 shares of AAPL stock at 3000 price is 15000\n"
     ]
    }
   ],
   "source": [
    "# Convert from string datatype to integer datatype prior to performing addition\n",
    "\n",
    "x = input(\"Enter the price of AAPL stock today: \")\n",
    "x = int(x)\n",
    "y = input(\"Enter the number of APPLE stocks that you want to buy: \")\n",
    "y = int(y)\n",
    "print('The total funds required to buy {} shares of AAPL stock at {} dollars is {}'.format(y, x, x*y)) "
   ]
  },
  {
   "cell_type": "markdown",
   "metadata": {
    "colab_type": "text",
    "id": "L8v5D4y1CIUQ"
   },
   "source": [
    "**MINI CHALLENGE #8:** \n",
    "- **Write a code that takes in the name of the stock, price at which it is selling, the number of stocks that you want to own and prints out the total funds required to buy this stock. Find a sample expected output below:**\n",
    "\n",
    "  - Enter the price of the stock you want to buy: 3000  \n",
    "  - Enter the number of stocks that you want to buy: 5\n",
    "  - Enter the name of the stock that you want to buy: AMZN\n",
    "  - The total funds required to buy 5 number of AMZN stocks at 3000 is 15000\n"
   ]
  },
  {
   "cell_type": "markdown",
   "metadata": {
    "colab_type": "text",
    "id": "Jm-0XhPntGtK"
   },
   "source": [
    "# EXCELLENT JOB"
   ]
  },
  {
   "cell_type": "markdown",
   "metadata": {
    "colab_type": "text",
    "id": "_wuaDbzWm-i8"
   },
   "source": [
    "# MINI CHALLENGES SOLUTIONS"
   ]
  },
  {
   "cell_type": "markdown",
   "metadata": {
    "colab_type": "text",
    "id": "Xq-Y8OW0nG8O"
   },
   "source": [
    "**MINI CHALLENGE #1:**\n",
    "- **We defined a variable AMZN (Ticker symbol for Amazon stock) and we assigned these 3 values listed below to it. Without executing any code cells, what will these lines of code generate?**\n",
    "- **Verify your answer by executing the code cells** \n",
    "\n",
    "\n",
    "\n",
    "```\n",
    "AMZN = 3324\n",
    "AMZN = 3400\n",
    "AMZN = 3530\n",
    "AMZN\n",
    "```\n"
   ]
  },
  {
   "cell_type": "code",
   "execution_count": null,
   "metadata": {
    "colab": {
     "base_uri": "https://localhost:8080/",
     "height": 34
    },
    "colab_type": "code",
    "executionInfo": {
     "elapsed": 312,
     "status": "ok",
     "timestamp": 1599878300379,
     "user": {
      "displayName": "Stemplicity",
      "photoUrl": "https://lh3.googleusercontent.com/a-/AOh14Gj2vCFt-bD5mPBhUWX0QA6xiBgoXQXtwUm2jgjaCg=s64",
      "userId": "10668071569687886186"
     },
     "user_tz": 240
    },
    "id": "R_CHNPWbnAf0",
    "outputId": "f98ceb81-1b9c-490a-b176-71f1aa6e3676"
   },
   "outputs": [
    {
     "data": {
      "text/plain": [
       "3530"
      ]
     },
     "execution_count": 24,
     "metadata": {
      "tags": []
     },
     "output_type": "execute_result"
    }
   ],
   "source": [
    "# The output of this code is 3530\n",
    "# Initially we put 3324 in AMZN, then we overwrite it by placing 3400 in AMZN, and then 3530 in AMZN\n",
    "AMZN = 3324\n",
    "AMZN = 3400\n",
    "AMZN = 3530\n",
    "AMZN"
   ]
  },
  {
   "cell_type": "markdown",
   "metadata": {
    "colab_type": "text",
    "id": "0tFG_HiJoWiM"
   },
   "source": [
    "**MINI CHALLENGE #2:**\n",
    "- **We defined a variable AAPL (Ticker symbol for Apple stock) and we assigned these 2 values listed below to it. Without executing any code cells, what will these lines of code generate?**\n",
    "- **Verify your answer by executing the code cells** \n",
    "\n",
    "\n",
    "\n",
    "```\n",
    "AAPL = 112\n",
    "AAPL = 115.3\n",
    "type(AAPL)\n",
    "```"
   ]
  },
  {
   "cell_type": "code",
   "execution_count": null,
   "metadata": {
    "colab": {
     "base_uri": "https://localhost:8080/",
     "height": 34
    },
    "colab_type": "code",
    "executionInfo": {
     "elapsed": 345,
     "status": "ok",
     "timestamp": 1599878356002,
     "user": {
      "displayName": "Stemplicity",
      "photoUrl": "https://lh3.googleusercontent.com/a-/AOh14Gj2vCFt-bD5mPBhUWX0QA6xiBgoXQXtwUm2jgjaCg=s64",
      "userId": "10668071569687886186"
     },
     "user_tz": 240
    },
    "id": "p449NLcAnCbu",
    "outputId": "fbcc4b25-b336-4dae-8169-f4b5d7d2552e"
   },
   "outputs": [
    {
     "data": {
      "text/plain": [
       "float"
      ]
     },
     "execution_count": 26,
     "metadata": {
      "tags": []
     },
     "output_type": "execute_result"
    }
   ],
   "source": [
    "AAPL = 112\n",
    "AAPL = 115.3\n",
    "type(AAPL)"
   ]
  },
  {
   "cell_type": "markdown",
   "metadata": {
    "colab_type": "text",
    "id": "ayH1UnrYYokG"
   },
   "source": [
    "**MINI CHALLENGE #3 SOLUTION:** \n",
    "- **Write a code that calculates the total value of a portfolio assuming that you own 15 Google stocks (Sticker Symbol: GOOG) priced at 1500 each** \n"
   ]
  },
  {
   "cell_type": "code",
   "execution_count": null,
   "metadata": {
    "colab": {
     "base_uri": "https://localhost:8080/",
     "height": 34
    },
    "colab_type": "code",
    "executionInfo": {
     "elapsed": 380,
     "status": "ok",
     "timestamp": 1599878503351,
     "user": {
      "displayName": "Stemplicity",
      "photoUrl": "https://lh3.googleusercontent.com/a-/AOh14Gj2vCFt-bD5mPBhUWX0QA6xiBgoXQXtwUm2jgjaCg=s64",
      "userId": "10668071569687886186"
     },
     "user_tz": 240
    },
    "id": "6XGSaa4uoZgs",
    "outputId": "11db79f9-c826-44dc-e71e-469ba1653cc1"
   },
   "outputs": [
    {
     "data": {
      "text/plain": [
       "22500"
      ]
     },
     "execution_count": 27,
     "metadata": {
      "tags": []
     },
     "output_type": "execute_result"
    }
   ],
   "source": [
    "price  = 1500\n",
    "x  = 15\n",
    "amount = x * price\n",
    "amount"
   ]
  },
  {
   "cell_type": "markdown",
   "metadata": {
    "colab_type": "text",
    "id": "kfyhdekfaUnr"
   },
   "source": [
    "**MINI CHALLENGE #4 SOLUTION:**\n",
    "- **Write a code that takes in Google (GOOG) stock prices at two days and calculate the return:**\n",
    "  - **GOOG price on day 1 = \\$260** \n",
    "  - **GOOG price on day 2 = \\$280**"
   ]
  },
  {
   "cell_type": "code",
   "execution_count": null,
   "metadata": {
    "colab": {
     "base_uri": "https://localhost:8080/",
     "height": 34
    },
    "colab_type": "code",
    "executionInfo": {
     "elapsed": 302,
     "status": "ok",
     "timestamp": 1599878847162,
     "user": {
      "displayName": "Stemplicity",
      "photoUrl": "https://lh3.googleusercontent.com/a-/AOh14Gj2vCFt-bD5mPBhUWX0QA6xiBgoXQXtwUm2jgjaCg=s64",
      "userId": "10668071569687886186"
     },
     "user_tz": 240
    },
    "id": "SUdMEr51Y0cR",
    "outputId": "78d09f1c-a6d1-4c18-ae3f-ec0245989bdb"
   },
   "outputs": [
    {
     "data": {
      "text/plain": [
       "7.6923076923076925"
      ]
     },
     "execution_count": 28,
     "metadata": {
      "tags": []
     },
     "output_type": "execute_result"
    }
   ],
   "source": [
    "GOOG_price_1 = 260\n",
    "GOOG_price_2 = 280\n",
    "\n",
    "price_diff = GOOG_price_2 - GOOG_price_1\n",
    "percentage_change = price_diff / GOOG_price_1 * 100\n",
    "\n",
    "percentage_change"
   ]
  },
  {
   "cell_type": "markdown",
   "metadata": {
    "colab_type": "text",
    "id": "fSJnUnEvdv3T"
   },
   "source": [
    "**MINI CHALLENGE #5 SOLUTION:**\n",
    "- **Assume that you own 15 shares of AAPL stock priced at \\$150 a share. Apple announced the launch of 5 new products with exceptional features so the stock price increased to $170 a share. Calculate the total profit.**\n"
   ]
  },
  {
   "cell_type": "code",
   "execution_count": null,
   "metadata": {
    "colab": {
     "base_uri": "https://localhost:8080/",
     "height": 34
    },
    "colab_type": "code",
    "executionInfo": {
     "elapsed": 370,
     "status": "ok",
     "timestamp": 1599879215754,
     "user": {
      "displayName": "Stemplicity",
      "photoUrl": "https://lh3.googleusercontent.com/a-/AOh14Gj2vCFt-bD5mPBhUWX0QA6xiBgoXQXtwUm2jgjaCg=s64",
      "userId": "10668071569687886186"
     },
     "user_tz": 240
    },
    "id": "xf-UX5aFd11W",
    "outputId": "90be41bc-e16f-4fdc-e54c-81f036b6d4a9"
   },
   "outputs": [
    {
     "data": {
      "text/plain": [
       "300"
      ]
     },
     "execution_count": 30,
     "metadata": {
      "tags": []
     },
     "output_type": "execute_result"
    }
   ],
   "source": [
    "AAPL_new = 170\n",
    "AAPL_old = 150\n",
    "num_shares = 15\n",
    "profit = (AAPL_new - AAPL_old) * num_shares   \n",
    "profit"
   ]
  },
  {
   "cell_type": "markdown",
   "metadata": {
    "colab_type": "text",
    "id": "z0zgdSWqc2oa"
   },
   "source": [
    "**MINI CHALLENGE #6 SOLUTION:** \n",
    "- **Write a code that performs the following mathematical operation: z = |x − y| * (x + y)**"
   ]
  },
  {
   "cell_type": "code",
   "execution_count": null,
   "metadata": {
    "colab": {},
    "colab_type": "code",
    "id": "zILwh7ILc4kq"
   },
   "outputs": [],
   "source": [
    "x = 4\n",
    "y = 2\n",
    "z = abs(x-y) * (x+y)"
   ]
  },
  {
   "cell_type": "markdown",
   "metadata": {
    "colab_type": "text",
    "id": "GSto5juvGlGM"
   },
   "source": [
    "**MINI CHALLENGE #7 SOLUTION:**\n",
    "- **Write a code that print out the above statement along with AAPL ticker**\n",
    "- **i.e.: I own 30 shares of Apple Inc.(AAPL)** "
   ]
  },
  {
   "cell_type": "code",
   "execution_count": null,
   "metadata": {
    "colab": {
     "base_uri": "https://localhost:8080/",
     "height": 34
    },
    "colab_type": "code",
    "executionInfo": {
     "elapsed": 302,
     "status": "ok",
     "timestamp": 1599879526933,
     "user": {
      "displayName": "Stemplicity",
      "photoUrl": "https://lh3.googleusercontent.com/a-/AOh14Gj2vCFt-bD5mPBhUWX0QA6xiBgoXQXtwUm2jgjaCg=s64",
      "userId": "10668071569687886186"
     },
     "user_tz": 240
    },
    "id": "6YfhUSPhGn46",
    "outputId": "a713a549-1120-415b-b680-03a531cec8a5"
   },
   "outputs": [
    {
     "name": "stdout",
     "output_type": "stream",
     "text": [
      "I own 30 shares of Apple Inc.(AAPL)\n"
     ]
    }
   ],
   "source": [
    "ticker = 'AAPL'\n",
    "print(\"I own {} shares of {}({})\".format(shares, company_name, ticker))"
   ]
  },
  {
   "cell_type": "markdown",
   "metadata": {
    "colab_type": "text",
    "id": "iKU27yueFUoI"
   },
   "source": [
    "**MINI CHALLENGE #8 SOLUTION:** \n",
    "- **Write a code that takes in the name of the stock, price at which it is selling, the number of stocks that you want to own and prints out the total funds required to buy this stock. Find a sample expected output below:**\n",
    "\n",
    "  - Enter the price of the stock you want to buy: 3000  \n",
    "  - Enter the number of stocks that you want to buy: 5\n",
    "  - Enter the name of the stock that you want to buy: AMZN\n",
    "  - The total funds required to buy 5 number of AMZN stocks at 3000 is 15000\n",
    "\n"
   ]
  },
  {
   "cell_type": "code",
   "execution_count": null,
   "metadata": {
    "colab": {
     "base_uri": "https://localhost:8080/",
     "height": 84
    },
    "colab_type": "code",
    "executionInfo": {
     "elapsed": 6299,
     "status": "ok",
     "timestamp": 1599880175412,
     "user": {
      "displayName": "Stemplicity",
      "photoUrl": "https://lh3.googleusercontent.com/a-/AOh14Gj2vCFt-bD5mPBhUWX0QA6xiBgoXQXtwUm2jgjaCg=s64",
      "userId": "10668071569687886186"
     },
     "user_tz": 240
    },
    "id": "YsOyGpwiFWDK",
    "outputId": "1e3229e1-752d-4c57-b533-5a6142362e19"
   },
   "outputs": [
    {
     "name": "stdout",
     "output_type": "stream",
     "text": [
      "Enter the price of the stock you want to buy: 3000\n",
      "Enter the number of stocks that you want to buy: 5\n",
      "Enter the name of the stock that you want to buy: AMZN\n",
      "The total funds required to buy 5 number of AMZN stocks at 3000 is 15000\n"
     ]
    }
   ],
   "source": [
    "x = input(\"Enter the price of the stock you want to buy: \")\n",
    "x = int(x)\n",
    "y = input(\"Enter the number of stocks that you want to buy: \")\n",
    "y = int(y)\n",
    "z = input(\"Enter the name of the stock that you want to buy: \")\n",
    "print('The total funds required to buy {} number of {} stocks at {} is {}'.format(y,z,x, x*y)) "
   ]
  },
  {
   "cell_type": "code",
   "execution_count": null,
   "metadata": {
    "colab": {},
    "colab_type": "code",
    "id": "CDRHLx0Tah7T"
   },
   "outputs": [],
   "source": []
  }
 ],
 "metadata": {
  "colab": {
   "collapsed_sections": [],
   "name": "1. Python 101 - Variables Assignment, Math Ops, Precedence, and Print/Get - Solution.ipynb",
   "provenance": []
  },
  "hide_input": false,
  "kernelspec": {
   "display_name": "Python 3",
   "language": "python",
   "name": "python3"
  },
  "language_info": {
   "codemirror_mode": {
    "name": "ipython",
    "version": 3
   },
   "file_extension": ".py",
   "mimetype": "text/x-python",
   "name": "python",
   "nbconvert_exporter": "python",
   "pygments_lexer": "ipython3",
   "version": "3.8.5"
  },
  "latex_envs": {
   "LaTeX_envs_menu_present": true,
   "autoclose": false,
   "autocomplete": true,
   "bibliofile": "biblio.bib",
   "cite_by": "apalike",
   "current_citInitial": 1,
   "eqLabelWithNumbers": true,
   "eqNumInitial": 1,
   "hotkeys": {
    "equation": "Ctrl-E",
    "itemize": "Ctrl-I"
   },
   "labels_anchors": false,
   "latex_user_defs": false,
   "report_style_numbering": false,
   "user_envs_cfg": false
  },
  "varInspector": {
   "cols": {
    "lenName": 16,
    "lenType": 16,
    "lenVar": 40
   },
   "kernels_config": {
    "python": {
     "delete_cmd_postfix": "",
     "delete_cmd_prefix": "del ",
     "library": "var_list.py",
     "varRefreshCmd": "print(var_dic_list())"
    },
    "r": {
     "delete_cmd_postfix": ") ",
     "delete_cmd_prefix": "rm(",
     "library": "var_list.r",
     "varRefreshCmd": "cat(var_dic_list()) "
    }
   },
   "types_to_exclude": [
    "module",
    "function",
    "builtin_function_or_method",
    "instance",
    "_Feature"
   ],
   "window_display": false
  }
 },
 "nbformat": 4,
 "nbformat_minor": 1
}
