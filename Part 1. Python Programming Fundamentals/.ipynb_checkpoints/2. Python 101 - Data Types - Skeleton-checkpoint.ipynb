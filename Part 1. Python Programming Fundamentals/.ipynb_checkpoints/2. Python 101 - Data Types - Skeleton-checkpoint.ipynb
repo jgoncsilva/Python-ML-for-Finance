{
 "cells": [
  {
   "cell_type": "code",
   "execution_count": null,
   "metadata": {},
   "outputs": [],
   "source": []
  },
  {
   "cell_type": "markdown",
   "metadata": {
    "colab_type": "text",
    "id": "jAvAN1PiB8bc"
   },
   "source": [
    "# 1. BOOLEANS"
   ]
  },
  {
   "cell_type": "code",
   "execution_count": null,
   "metadata": {
    "colab": {
     "base_uri": "https://localhost:8080/",
     "height": 34
    },
    "colab_type": "code",
    "executionInfo": {
     "elapsed": 445,
     "status": "ok",
     "timestamp": 1599880348447,
     "user": {
      "displayName": "Stemplicity",
      "photoUrl": "https://lh3.googleusercontent.com/a-/AOh14Gj2vCFt-bD5mPBhUWX0QA6xiBgoXQXtwUm2jgjaCg=s64",
      "userId": "10668071569687886186"
     },
     "user_tz": 240
    },
    "id": "nQxJN0ShB_Ae",
    "outputId": "bc6a8edb-af0d-4b52-cbf1-a4404d9d9096"
   },
   "outputs": [
    {
     "data": {
      "text/plain": [
       "True"
      ]
     },
     "execution_count": 1,
     "metadata": {
      "tags": []
     },
     "output_type": "execute_result"
    }
   ],
   "source": [
    "# Boolean values can be represented as one of two constant objects \"False\" and \"True\". \n",
    "# Booleans behave like integers 0 and 1.\n"
   ]
  },
  {
   "cell_type": "code",
   "execution_count": null,
   "metadata": {
    "colab": {
     "base_uri": "https://localhost:8080/",
     "height": 34
    },
    "colab_type": "code",
    "executionInfo": {
     "elapsed": 343,
     "status": "ok",
     "timestamp": 1599880349703,
     "user": {
      "displayName": "Stemplicity",
      "photoUrl": "https://lh3.googleusercontent.com/a-/AOh14Gj2vCFt-bD5mPBhUWX0QA6xiBgoXQXtwUm2jgjaCg=s64",
      "userId": "10668071569687886186"
     },
     "user_tz": 240
    },
    "id": "MWOLRKg-B_D6",
    "outputId": "662c8965-caa9-4e57-efea-f188dc07c05a"
   },
   "outputs": [
    {
     "data": {
      "text/plain": [
       "False"
      ]
     },
     "execution_count": 2,
     "metadata": {
      "tags": []
     },
     "output_type": "execute_result"
    }
   ],
   "source": []
  },
  {
   "cell_type": "code",
   "execution_count": null,
   "metadata": {
    "colab": {
     "base_uri": "https://localhost:8080/",
     "height": 34
    },
    "colab_type": "code",
    "executionInfo": {
     "elapsed": 245,
     "status": "ok",
     "timestamp": 1599880444984,
     "user": {
      "displayName": "Stemplicity",
      "photoUrl": "https://lh3.googleusercontent.com/a-/AOh14Gj2vCFt-bD5mPBhUWX0QA6xiBgoXQXtwUm2jgjaCg=s64",
      "userId": "10668071569687886186"
     },
     "user_tz": 240
    },
    "id": "oDfoK28ZB_SO",
    "outputId": "aad8587d-36c6-4328-eae3-3045f7b95fa5"
   },
   "outputs": [
    {
     "name": "stdout",
     "output_type": "stream",
     "text": [
      "False\n"
     ]
    }
   ],
   "source": []
  },
  {
   "cell_type": "markdown",
   "metadata": {
    "colab_type": "text",
    "id": "zK3GTZaCFwNt"
   },
   "source": [
    "**MINI CHALLENGE #1:** \n",
    "- **What will this code generate?**\n",
    "```\n",
    "stock_1_price = 20\n",
    "stock_2_price = 30\n",
    "print((stock_1_price < stock_2_price))\n",
    "print(stock_1_price == stock_2_price)\n",
    "```"
   ]
  },
  {
   "cell_type": "code",
   "execution_count": null,
   "metadata": {
    "colab": {},
    "colab_type": "code",
    "id": "Fk7waP-xUtan"
   },
   "outputs": [],
   "source": []
  },
  {
   "cell_type": "markdown",
   "metadata": {
    "colab_type": "text",
    "id": "_5r-dUNX7nfy"
   },
   "source": [
    "# 2. LIST"
   ]
  },
  {
   "cell_type": "code",
   "execution_count": null,
   "metadata": {
    "colab": {
     "base_uri": "https://localhost:8080/",
     "height": 34
    },
    "colab_type": "code",
    "executionInfo": {
     "elapsed": 282,
     "status": "ok",
     "timestamp": 1599880760342,
     "user": {
      "displayName": "Stemplicity",
      "photoUrl": "https://lh3.googleusercontent.com/a-/AOh14Gj2vCFt-bD5mPBhUWX0QA6xiBgoXQXtwUm2jgjaCg=s64",
      "userId": "10668071569687886186"
     },
     "user_tz": 240
    },
    "id": "F27HZd8a60zD",
    "outputId": "5a11b33b-3228-4489-e2db-e97d6688c309"
   },
   "outputs": [
    {
     "data": {
      "text/plain": [
       "[1, 2, 3]"
      ]
     },
     "execution_count": 9,
     "metadata": {
      "tags": []
     },
     "output_type": "execute_result"
    }
   ],
   "source": [
    "# A list is a collection which is ordered and changeable. \n",
    "# List allows duplicate members.\n"
   ]
  },
  {
   "cell_type": "code",
   "execution_count": null,
   "metadata": {
    "colab": {
     "base_uri": "https://localhost:8080/",
     "height": 34
    },
    "colab_type": "code",
    "executionInfo": {
     "elapsed": 291,
     "status": "ok",
     "timestamp": 1599880762572,
     "user": {
      "displayName": "Stemplicity",
      "photoUrl": "https://lh3.googleusercontent.com/a-/AOh14Gj2vCFt-bD5mPBhUWX0QA6xiBgoXQXtwUm2jgjaCg=s64",
      "userId": "10668071569687886186"
     },
     "user_tz": 240
    },
    "id": "AeHE6akU70RX",
    "outputId": "cf7655aa-5ff6-481f-dff5-d446085e35ba"
   },
   "outputs": [
    {
     "data": {
      "text/plain": [
       "list"
      ]
     },
     "execution_count": 10,
     "metadata": {
      "tags": []
     },
     "output_type": "execute_result"
    }
   ],
   "source": [
    "# Obtain the datatype\n"
   ]
  },
  {
   "cell_type": "code",
   "execution_count": null,
   "metadata": {
    "colab": {
     "base_uri": "https://localhost:8080/",
     "height": 34
    },
    "colab_type": "code",
    "executionInfo": {
     "elapsed": 325,
     "status": "ok",
     "timestamp": 1599880799658,
     "user": {
      "displayName": "Stemplicity",
      "photoUrl": "https://lh3.googleusercontent.com/a-/AOh14Gj2vCFt-bD5mPBhUWX0QA6xiBgoXQXtwUm2jgjaCg=s64",
      "userId": "10668071569687886186"
     },
     "user_tz": 240
    },
    "id": "qaiXmQs570Vv",
    "outputId": "f65bee76-cce1-4775-ed7b-04795801458f"
   },
   "outputs": [
    {
     "data": {
      "text/plain": [
       "[2, 'GOOG', 5]"
      ]
     },
     "execution_count": 11,
     "metadata": {
      "tags": []
     },
     "output_type": "execute_result"
    }
   ],
   "source": [
    "# list with mixed datatypes (for example you can have strings and integers in one list)\n"
   ]
  },
  {
   "cell_type": "code",
   "execution_count": null,
   "metadata": {
    "colab": {
     "base_uri": "https://localhost:8080/",
     "height": 34
    },
    "colab_type": "code",
    "executionInfo": {
     "elapsed": 303,
     "status": "ok",
     "timestamp": 1599880810447,
     "user": {
      "displayName": "Stemplicity",
      "photoUrl": "https://lh3.googleusercontent.com/a-/AOh14Gj2vCFt-bD5mPBhUWX0QA6xiBgoXQXtwUm2jgjaCg=s64",
      "userId": "10668071569687886186"
     },
     "user_tz": 240
    },
    "id": "PNJjE3qX70YR",
    "outputId": "aa243bd6-3e9f-46c8-e422-3e77dbc1ebf6"
   },
   "outputs": [
    {
     "data": {
      "text/plain": [
       "['GOOG', [3, 6, 7]]"
      ]
     },
     "execution_count": 12,
     "metadata": {
      "tags": []
     },
     "output_type": "execute_result"
    }
   ],
   "source": [
    "# You can have a list inside another list (nested list)\n"
   ]
  },
  {
   "cell_type": "code",
   "execution_count": null,
   "metadata": {
    "colab": {
     "base_uri": "https://localhost:8080/",
     "height": 35
    },
    "colab_type": "code",
    "executionInfo": {
     "elapsed": 243,
     "status": "ok",
     "timestamp": 1599881016785,
     "user": {
      "displayName": "Stemplicity",
      "photoUrl": "https://lh3.googleusercontent.com/a-/AOh14Gj2vCFt-bD5mPBhUWX0QA6xiBgoXQXtwUm2jgjaCg=s64",
      "userId": "10668071569687886186"
     },
     "user_tz": 240
    },
    "id": "XZZiMb2c70f6",
    "outputId": "241ad2e5-a9cf-4331-d70a-9c4627daa5bf"
   },
   "outputs": [
    {
     "data": {
      "application/vnd.google.colaboratory.intrinsic+json": {
       "type": "string"
      },
      "text/plain": [
       "'GOOG'"
      ]
     },
     "execution_count": 15,
     "metadata": {
      "tags": []
     },
     "output_type": "execute_result"
    }
   ],
   "source": [
    "# Access specific elements in the list with Indexing\n",
    "# Note that the first element in the list has an index of 0 (little confusing but you'll get used to it!)\n"
   ]
  },
  {
   "cell_type": "code",
   "execution_count": null,
   "metadata": {
    "colab": {
     "base_uri": "https://localhost:8080/",
     "height": 35
    },
    "colab_type": "code",
    "executionInfo": {
     "elapsed": 250,
     "status": "ok",
     "timestamp": 1599881044384,
     "user": {
      "displayName": "Stemplicity",
      "photoUrl": "https://lh3.googleusercontent.com/a-/AOh14Gj2vCFt-bD5mPBhUWX0QA6xiBgoXQXtwUm2jgjaCg=s64",
      "userId": "10668071569687886186"
     },
     "user_tz": 240
    },
    "id": "I6z3Ls6R70iU",
    "outputId": "7679db7e-ba66-4210-f522-f128790f808d"
   },
   "outputs": [
    {
     "data": {
      "application/vnd.google.colaboratory.intrinsic+json": {
       "type": "string"
      },
      "text/plain": [
       "'APPL'"
      ]
     },
     "execution_count": 16,
     "metadata": {
      "tags": []
     },
     "output_type": "execute_result"
    }
   ],
   "source": [
    "# indexing for nested lists\n"
   ]
  },
  {
   "cell_type": "code",
   "execution_count": null,
   "metadata": {
    "colab": {
     "base_uri": "https://localhost:8080/",
     "height": 34
    },
    "colab_type": "code",
    "executionInfo": {
     "elapsed": 275,
     "status": "ok",
     "timestamp": 1599881060529,
     "user": {
      "displayName": "Stemplicity",
      "photoUrl": "https://lh3.googleusercontent.com/a-/AOh14Gj2vCFt-bD5mPBhUWX0QA6xiBgoXQXtwUm2jgjaCg=s64",
      "userId": "10668071569687886186"
     },
     "user_tz": 240
    },
    "id": "5Bx9hZPc70o4",
    "outputId": "5a2a3d65-8c5c-4208-d8a3-3b9e3837be39"
   },
   "outputs": [
    {
     "name": "stdout",
     "output_type": "stream",
     "text": [
      "6\n"
     ]
    }
   ],
   "source": []
  },
  {
   "cell_type": "code",
   "execution_count": null,
   "metadata": {
    "colab": {
     "base_uri": "https://localhost:8080/",
     "height": 34
    },
    "colab_type": "code",
    "executionInfo": {
     "elapsed": 285,
     "status": "ok",
     "timestamp": 1599881064019,
     "user": {
      "displayName": "Stemplicity",
      "photoUrl": "https://lh3.googleusercontent.com/a-/AOh14Gj2vCFt-bD5mPBhUWX0QA6xiBgoXQXtwUm2jgjaCg=s64",
      "userId": "10668071569687886186"
     },
     "user_tz": 240
    },
    "id": "hEHd__Zr70nj",
    "outputId": "28a9b85a-4137-4052-8421-d523b1309a49"
   },
   "outputs": [
    {
     "name": "stdout",
     "output_type": "stream",
     "text": [
      "['APPL', 5, 6]\n"
     ]
    }
   ],
   "source": []
  },
  {
   "cell_type": "code",
   "execution_count": null,
   "metadata": {
    "colab": {
     "base_uri": "https://localhost:8080/",
     "height": 34
    },
    "colab_type": "code",
    "executionInfo": {
     "elapsed": 293,
     "status": "ok",
     "timestamp": 1599881078411,
     "user": {
      "displayName": "Stemplicity",
      "photoUrl": "https://lh3.googleusercontent.com/a-/AOh14Gj2vCFt-bD5mPBhUWX0QA6xiBgoXQXtwUm2jgjaCg=s64",
      "userId": "10668071569687886186"
     },
     "user_tz": 240
    },
    "id": "4KVMQSCO70lg",
    "outputId": "1b320a5c-b4f5-4096-9815-efc0950ba03a"
   },
   "outputs": [
    {
     "name": "stdout",
     "output_type": "stream",
     "text": [
      "GOOG\n"
     ]
    }
   ],
   "source": [
    "# Negative Indexing\n"
   ]
  },
  {
   "cell_type": "code",
   "execution_count": null,
   "metadata": {
    "colab": {
     "base_uri": "https://localhost:8080/",
     "height": 34
    },
    "colab_type": "code",
    "executionInfo": {
     "elapsed": 287,
     "status": "ok",
     "timestamp": 1599881332677,
     "user": {
      "displayName": "Stemplicity",
      "photoUrl": "https://lh3.googleusercontent.com/a-/AOh14Gj2vCFt-bD5mPBhUWX0QA6xiBgoXQXtwUm2jgjaCg=s64",
      "userId": "10668071569687886186"
     },
     "user_tz": 240
    },
    "id": "-Bw1wI_h70dw",
    "outputId": "f8a45cbc-8111-4c4c-83b1-3a16d802269f"
   },
   "outputs": [
    {
     "name": "stdout",
     "output_type": "stream",
     "text": [
      "['GOOG', 'SP500', 'AMZN']\n"
     ]
    }
   ],
   "source": [
    "# List Slicing (getting more than one element from a list) \n",
    "\n",
    "# obtain elements starting from index 3 up to and not including element with index 6  \n"
   ]
  },
  {
   "cell_type": "code",
   "execution_count": null,
   "metadata": {
    "colab": {
     "base_uri": "https://localhost:8080/",
     "height": 34
    },
    "colab_type": "code",
    "executionInfo": {
     "elapsed": 245,
     "status": "ok",
     "timestamp": 1599881370480,
     "user": {
      "displayName": "Stemplicity",
      "photoUrl": "https://lh3.googleusercontent.com/a-/AOh14Gj2vCFt-bD5mPBhUWX0QA6xiBgoXQXtwUm2jgjaCg=s64",
      "userId": "10668071569687886186"
     },
     "user_tz": 240
    },
    "id": "VGsNNIpn9ILB",
    "outputId": "1e78d4d2-4829-4222-9cef-0f877a4c4140"
   },
   "outputs": [
    {
     "name": "stdout",
     "output_type": "stream",
     "text": [
      "['GOOG', 'SP500', 'AMZN', 15]\n"
     ]
    }
   ],
   "source": [
    "# Obtain elements starting from index 3 to end\n"
   ]
  },
  {
   "cell_type": "code",
   "execution_count": null,
   "metadata": {
    "colab": {
     "base_uri": "https://localhost:8080/",
     "height": 34
    },
    "colab_type": "code",
    "executionInfo": {
     "elapsed": 254,
     "status": "ok",
     "timestamp": 1599881382665,
     "user": {
      "displayName": "Stemplicity",
      "photoUrl": "https://lh3.googleusercontent.com/a-/AOh14Gj2vCFt-bD5mPBhUWX0QA6xiBgoXQXtwUm2jgjaCg=s64",
      "userId": "10668071569687886186"
     },
     "user_tz": 240
    },
    "id": "W0Z8oCAC9IJL",
    "outputId": "16c70e62-c1ec-4c7d-c71e-85bb907cb79e"
   },
   "outputs": [
    {
     "name": "stdout",
     "output_type": "stream",
     "text": [
      "[2, 5, 7, 'GOOG', 'SP500', 'AMZN', 15]\n"
     ]
    }
   ],
   "source": [
    "# All elements start to end\n"
   ]
  },
  {
   "cell_type": "code",
   "execution_count": null,
   "metadata": {
    "colab": {
     "base_uri": "https://localhost:8080/",
     "height": 34
    },
    "colab_type": "code",
    "executionInfo": {
     "elapsed": 249,
     "status": "ok",
     "timestamp": 1599881418603,
     "user": {
      "displayName": "Stemplicity",
      "photoUrl": "https://lh3.googleusercontent.com/a-/AOh14Gj2vCFt-bD5mPBhUWX0QA6xiBgoXQXtwUm2jgjaCg=s64",
      "userId": "10668071569687886186"
     },
     "user_tz": 240
    },
    "id": "Z4sY6MEJ9IGv",
    "outputId": "58f1cbdd-f2cc-4f0d-e118-22f256c6b6e2"
   },
   "outputs": [
    {
     "data": {
      "text/plain": [
       "7"
      ]
     },
     "execution_count": 31,
     "metadata": {
      "tags": []
     },
     "output_type": "execute_result"
    }
   ],
   "source": [
    "# Obtain the length of the list (how many elements in the list) \n"
   ]
  },
  {
   "cell_type": "markdown",
   "metadata": {
    "colab_type": "text",
    "id": "Q1qcVBl7G1GO"
   },
   "source": [
    "**MINI CHALLENGE #2:**\n",
    "- **Print the first, second and last element in the list below**\n",
    "- **Print all elements in the list, first 3 elements, and last three elements**\n",
    "\n",
    "```\n",
    "stocks = [\"GOOG\", \"TSLA\", \"AAPL\", \"T\", \"SP500\", \"BTC\", \"EUR/USD\"]\n",
    "```\n",
    "\n"
   ]
  },
  {
   "cell_type": "code",
   "execution_count": null,
   "metadata": {
    "colab": {},
    "colab_type": "code",
    "id": "adQzmLx7Y7p7"
   },
   "outputs": [],
   "source": []
  },
  {
   "cell_type": "markdown",
   "metadata": {
    "colab_type": "text",
    "id": "pqPdr6RNINsf"
   },
   "source": [
    "**MINI CHALLENGE #3:** \n",
    "- **Print GOOG**\n",
    "- **Print AAPL, GOOG, TSLA** \n",
    "- **Print T with two different ways**\n",
    "\n",
    "```\n",
    "my_list = [\"SP500\", [\"AAPL\", \"GOOG\", \"TSLA\"], \"BTC\", \"T\"]\n",
    "```\n"
   ]
  },
  {
   "cell_type": "markdown",
   "metadata": {
    "colab_type": "text",
    "id": "7a2j5iF8CYCU"
   },
   "source": [
    "# 3. DICTIONARY"
   ]
  },
  {
   "cell_type": "code",
   "execution_count": null,
   "metadata": {
    "colab": {},
    "colab_type": "code",
    "id": "RrxN16VRCbyz"
   },
   "outputs": [],
   "source": [
    "# my_dict = {'key1':'value1', 'key2':'value2', 'key3':'value3'}\n",
    "# Dictionary consists of a collection of key-value pairs. Each key-value pair maps the key to its corresponding value.\n",
    "# Keys are unique within a dictionary while values may not be. \n",
    "# List elements are accessed by their position in the list, via indexing while Dictionary elements are accessed via keys\n",
    "\n",
    "# Define a dictionary using key-value pairs\n"
   ]
  },
  {
   "cell_type": "code",
   "execution_count": null,
   "metadata": {
    "colab": {
     "base_uri": "https://localhost:8080/",
     "height": 34
    },
    "colab_type": "code",
    "executionInfo": {
     "elapsed": 293,
     "status": "ok",
     "timestamp": 1599882065118,
     "user": {
      "displayName": "Stemplicity",
      "photoUrl": "https://lh3.googleusercontent.com/a-/AOh14Gj2vCFt-bD5mPBhUWX0QA6xiBgoXQXtwUm2jgjaCg=s64",
      "userId": "10668071569687886186"
     },
     "user_tz": 240
    },
    "id": "dToa9hHWCcO5",
    "outputId": "dd71363d-293a-4d4d-b236-d82e03ff3424"
   },
   "outputs": [
    {
     "data": {
      "text/plain": [
       "{'key1': 'value1', 'key2': 'value2', 'key3': 'value3'}"
      ]
     },
     "execution_count": 47,
     "metadata": {
      "tags": []
     },
     "output_type": "execute_result"
    }
   ],
   "source": [
    "# View the dictionary\n"
   ]
  },
  {
   "cell_type": "code",
   "execution_count": null,
   "metadata": {
    "colab": {
     "base_uri": "https://localhost:8080/",
     "height": 34
    },
    "colab_type": "code",
    "executionInfo": {
     "elapsed": 279,
     "status": "ok",
     "timestamp": 1599882072058,
     "user": {
      "displayName": "Stemplicity",
      "photoUrl": "https://lh3.googleusercontent.com/a-/AOh14Gj2vCFt-bD5mPBhUWX0QA6xiBgoXQXtwUm2jgjaCg=s64",
      "userId": "10668071569687886186"
     },
     "user_tz": 240
    },
    "id": "KczBnCdmCcA5",
    "outputId": "02d7104c-b601-4f9a-aa56-f691d4e957a3"
   },
   "outputs": [
    {
     "data": {
      "text/plain": [
       "dict"
      ]
     },
     "execution_count": 48,
     "metadata": {
      "tags": []
     },
     "output_type": "execute_result"
    }
   ],
   "source": [
    "# Check the data type\n"
   ]
  },
  {
   "cell_type": "code",
   "execution_count": null,
   "metadata": {
    "colab": {
     "base_uri": "https://localhost:8080/",
     "height": 35
    },
    "colab_type": "code",
    "executionInfo": {
     "elapsed": 304,
     "status": "ok",
     "timestamp": 1599882072639,
     "user": {
      "displayName": "Stemplicity",
      "photoUrl": "https://lh3.googleusercontent.com/a-/AOh14Gj2vCFt-bD5mPBhUWX0QA6xiBgoXQXtwUm2jgjaCg=s64",
      "userId": "10668071569687886186"
     },
     "user_tz": 240
    },
    "id": "dThsTYeaCb-l",
    "outputId": "bca6b959-9aaa-4188-ad0b-ecbb927d6262"
   },
   "outputs": [
    {
     "data": {
      "application/vnd.google.colaboratory.intrinsic+json": {
       "type": "string"
      },
      "text/plain": [
       "'value2'"
      ]
     },
     "execution_count": 49,
     "metadata": {
      "tags": []
     },
     "output_type": "execute_result"
    }
   ],
   "source": [
    "# Access specific element in the dictionary using a specific key (ex: Key2)\n"
   ]
  },
  {
   "cell_type": "code",
   "execution_count": null,
   "metadata": {
    "colab": {
     "base_uri": "https://localhost:8080/",
     "height": 34
    },
    "colab_type": "code",
    "executionInfo": {
     "elapsed": 245,
     "status": "ok",
     "timestamp": 1599882123077,
     "user": {
      "displayName": "Stemplicity",
      "photoUrl": "https://lh3.googleusercontent.com/a-/AOh14Gj2vCFt-bD5mPBhUWX0QA6xiBgoXQXtwUm2jgjaCg=s64",
      "userId": "10668071569687886186"
     },
     "user_tz": 240
    },
    "id": "Li70lw0jCb87",
    "outputId": "9a3a0b64-659c-4f5e-c601-3f2b99c943da"
   },
   "outputs": [
    {
     "name": "stdout",
     "output_type": "stream",
     "text": [
      "{'Real estate': 150000, 'stocks': 10000, 'savings': 20000}\n"
     ]
    }
   ],
   "source": [
    "# Define a dictionary for a bank client listing all his/her assets! \n"
   ]
  },
  {
   "cell_type": "code",
   "execution_count": null,
   "metadata": {
    "colab": {
     "base_uri": "https://localhost:8080/",
     "height": 34
    },
    "colab_type": "code",
    "executionInfo": {
     "elapsed": 280,
     "status": "ok",
     "timestamp": 1599882135984,
     "user": {
      "displayName": "Stemplicity",
      "photoUrl": "https://lh3.googleusercontent.com/a-/AOh14Gj2vCFt-bD5mPBhUWX0QA6xiBgoXQXtwUm2jgjaCg=s64",
      "userId": "10668071569687886186"
     },
     "user_tz": 240
    },
    "id": "G_I_rJsWCb6E",
    "outputId": "ff0c4bae-1e81-4245-b9ba-1e6b22a8078d"
   },
   "outputs": [
    {
     "data": {
      "text/plain": [
       "10000"
      ]
     },
     "execution_count": 54,
     "metadata": {
      "tags": []
     },
     "output_type": "execute_result"
    }
   ],
   "source": [
    "# Access elements in the dictionary\n"
   ]
  },
  {
   "cell_type": "code",
   "execution_count": null,
   "metadata": {
    "colab": {
     "base_uri": "https://localhost:8080/",
     "height": 34
    },
    "colab_type": "code",
    "executionInfo": {
     "elapsed": 251,
     "status": "ok",
     "timestamp": 1599882159054,
     "user": {
      "displayName": "Stemplicity",
      "photoUrl": "https://lh3.googleusercontent.com/a-/AOh14Gj2vCFt-bD5mPBhUWX0QA6xiBgoXQXtwUm2jgjaCg=s64",
      "userId": "10668071569687886186"
     },
     "user_tz": 240
    },
    "id": "1DigIhEQCb3x",
    "outputId": "0c6ea3ae-3674-4ab6-eb28-aff8fe1304ad"
   },
   "outputs": [
    {
     "name": "stdout",
     "output_type": "stream",
     "text": [
      "{'Real estate': 150000, 'stocks': 10000, 'savings': 20000, 'Crypto': 1500}\n"
     ]
    }
   ],
   "source": [
    "# Add a new item to an existing dictionary\n"
   ]
  },
  {
   "cell_type": "code",
   "execution_count": null,
   "metadata": {
    "colab": {
     "base_uri": "https://localhost:8080/",
     "height": 34
    },
    "colab_type": "code",
    "executionInfo": {
     "elapsed": 240,
     "status": "ok",
     "timestamp": 1599882178400,
     "user": {
      "displayName": "Stemplicity",
      "photoUrl": "https://lh3.googleusercontent.com/a-/AOh14Gj2vCFt-bD5mPBhUWX0QA6xiBgoXQXtwUm2jgjaCg=s64",
      "userId": "10668071569687886186"
     },
     "user_tz": 240
    },
    "id": "m05N8LIiCb0_",
    "outputId": "65a6842e-7b89-4b47-8a35-1e7a552f7b6a"
   },
   "outputs": [
    {
     "name": "stdout",
     "output_type": "stream",
     "text": [
      "{'Real estate': 150000, 'stocks': 10000, 'Crypto': 1500}\n"
     ]
    }
   ],
   "source": [
    "# remove an item from the dictionary\n"
   ]
  },
  {
   "cell_type": "code",
   "execution_count": null,
   "metadata": {
    "colab": {
     "base_uri": "https://localhost:8080/",
     "height": 212
    },
    "colab_type": "code",
    "executionInfo": {
     "elapsed": 237,
     "status": "error",
     "timestamp": 1599882221645,
     "user": {
      "displayName": "Stemplicity",
      "photoUrl": "https://lh3.googleusercontent.com/a-/AOh14Gj2vCFt-bD5mPBhUWX0QA6xiBgoXQXtwUm2jgjaCg=s64",
      "userId": "10668071569687886186"
     },
     "user_tz": 240
    },
    "id": "c4GKclEzCoMe",
    "outputId": "22b3bcde-5422-4a30-928e-443d3b7c527e"
   },
   "outputs": [
    {
     "ename": "NameError",
     "evalue": "ignored",
     "output_type": "error",
     "traceback": [
      "\u001b[0;31m---------------------------------------------------------------------------\u001b[0m",
      "\u001b[0;31mNameError\u001b[0m                                 Traceback (most recent call last)",
      "\u001b[0;32m<ipython-input-58-2501f97ee81a>\u001b[0m in \u001b[0;36m<module>\u001b[0;34m()\u001b[0m\n\u001b[1;32m      1\u001b[0m \u001b[0;31m# delete the entire dictionary\u001b[0m\u001b[0;34m\u001b[0m\u001b[0;34m\u001b[0m\u001b[0;34m\u001b[0m\u001b[0m\n\u001b[1;32m      2\u001b[0m \u001b[0;31m# Note that you cannot print it out again because the entire dictionary has been deleted\u001b[0m\u001b[0;34m\u001b[0m\u001b[0;34m\u001b[0m\u001b[0;34m\u001b[0m\u001b[0m\n\u001b[0;32m----> 3\u001b[0;31m \u001b[0;32mdel\u001b[0m \u001b[0mclient_assets\u001b[0m\u001b[0;34m\u001b[0m\u001b[0;34m\u001b[0m\u001b[0m\n\u001b[0m\u001b[1;32m      4\u001b[0m \u001b[0mprint\u001b[0m\u001b[0;34m(\u001b[0m\u001b[0mclient_assets\u001b[0m\u001b[0;34m)\u001b[0m\u001b[0;34m\u001b[0m\u001b[0;34m\u001b[0m\u001b[0m\n",
      "\u001b[0;31mNameError\u001b[0m: name 'client_assets' is not defined"
     ]
    }
   ],
   "source": [
    "# delete the entire dictionary\n",
    "# Note that you cannot print it out again because the entire dictionary has been deleted\n"
   ]
  },
  {
   "cell_type": "markdown",
   "metadata": {
    "colab_type": "text",
    "id": "9llozT9XLiqI"
   },
   "source": [
    "**MINI CHALLENGE #4:**\n",
    "- **Create a dictionary with 3 of your favourite stocks and their prices** \n"
   ]
  },
  {
   "cell_type": "code",
   "execution_count": null,
   "metadata": {
    "colab": {},
    "colab_type": "code",
    "id": "KHOBUBNeKDXr"
   },
   "outputs": [],
   "source": []
  },
  {
   "cell_type": "markdown",
   "metadata": {
    "colab_type": "text",
    "id": "6kLIKQOZ6rNe"
   },
   "source": [
    "# 4. STRINGS"
   ]
  },
  {
   "cell_type": "code",
   "execution_count": null,
   "metadata": {
    "colab": {
     "base_uri": "https://localhost:8080/",
     "height": 35
    },
    "colab_type": "code",
    "executionInfo": {
     "elapsed": 324,
     "status": "ok",
     "timestamp": 1599882261931,
     "user": {
      "displayName": "Stemplicity",
      "photoUrl": "https://lh3.googleusercontent.com/a-/AOh14Gj2vCFt-bD5mPBhUWX0QA6xiBgoXQXtwUm2jgjaCg=s64",
      "userId": "10668071569687886186"
     },
     "user_tz": 240
    },
    "id": "rDjVcbLd6xJf",
    "outputId": "aad018a2-e48e-415e-ff06-309350512c12"
   },
   "outputs": [
    {
     "data": {
      "application/vnd.google.colaboratory.intrinsic+json": {
       "type": "string"
      },
      "text/plain": [
       "'Hello Everyone and Welcome to Python for finance course!'"
      ]
     },
     "execution_count": 60,
     "metadata": {
      "tags": []
     },
     "output_type": "execute_result"
    }
   ],
   "source": [
    "# A string in Python is a sequence of characters\n",
    "# String can be enclosed by either double or single quotes\n"
   ]
  },
  {
   "cell_type": "code",
   "execution_count": null,
   "metadata": {
    "colab": {
     "base_uri": "https://localhost:8080/",
     "height": 34
    },
    "colab_type": "code",
    "executionInfo": {
     "elapsed": 263,
     "status": "ok",
     "timestamp": 1599882264599,
     "user": {
      "displayName": "Stemplicity",
      "photoUrl": "https://lh3.googleusercontent.com/a-/AOh14Gj2vCFt-bD5mPBhUWX0QA6xiBgoXQXtwUm2jgjaCg=s64",
      "userId": "10668071569687886186"
     },
     "user_tz": 240
    },
    "id": "_UN8zNOJ60ud",
    "outputId": "c8bb9ddd-36b9-4aa0-bc62-7f2246f19a30"
   },
   "outputs": [
    {
     "data": {
      "text/plain": [
       "str"
      ]
     },
     "execution_count": 61,
     "metadata": {
      "tags": []
     },
     "output_type": "execute_result"
    }
   ],
   "source": [
    "# Obtain the datatype\n"
   ]
  },
  {
   "cell_type": "code",
   "execution_count": null,
   "metadata": {
    "colab": {
     "base_uri": "https://localhost:8080/",
     "height": 35
    },
    "colab_type": "code",
    "executionInfo": {
     "elapsed": 243,
     "status": "ok",
     "timestamp": 1599882384629,
     "user": {
      "displayName": "Stemplicity",
      "photoUrl": "https://lh3.googleusercontent.com/a-/AOh14Gj2vCFt-bD5mPBhUWX0QA6xiBgoXQXtwUm2jgjaCg=s64",
      "userId": "10668071569687886186"
     },
     "user_tz": 240
    },
    "id": "2r3aHdjn60wz",
    "outputId": "688fff5c-0c40-4e88-97e4-995a0374ca1c"
   },
   "outputs": [
    {
     "data": {
      "application/vnd.google.colaboratory.intrinsic+json": {
       "type": "string"
      },
      "text/plain": [
       "'LailaAly'"
      ]
     },
     "execution_count": 67,
     "metadata": {
      "tags": []
     },
     "output_type": "execute_result"
    }
   ],
   "source": [
    "# Combining two strings together (Let's combine the first and last name of a bank's client)\n"
   ]
  },
  {
   "cell_type": "code",
   "execution_count": null,
   "metadata": {
    "colab": {
     "base_uri": "https://localhost:8080/",
     "height": 35
    },
    "colab_type": "code",
    "executionInfo": {
     "elapsed": 257,
     "status": "ok",
     "timestamp": 1599882396201,
     "user": {
      "displayName": "Stemplicity",
      "photoUrl": "https://lh3.googleusercontent.com/a-/AOh14Gj2vCFt-bD5mPBhUWX0QA6xiBgoXQXtwUm2jgjaCg=s64",
      "userId": "10668071569687886186"
     },
     "user_tz": 240
    },
    "id": "8DZ5JbeX601H",
    "outputId": "7b69fb30-47d6-454f-d575-4a2152fe0e4b"
   },
   "outputs": [
    {
     "data": {
      "application/vnd.google.colaboratory.intrinsic+json": {
       "type": "string"
      },
      "text/plain": [
       "'Laila Aly'"
      ]
     },
     "execution_count": 68,
     "metadata": {
      "tags": []
     },
     "output_type": "execute_result"
    }
   ],
   "source": [
    "# You can combine both strings together and add spaces in between\n"
   ]
  },
  {
   "cell_type": "code",
   "execution_count": null,
   "metadata": {
    "colab": {
     "base_uri": "https://localhost:8080/",
     "height": 35
    },
    "colab_type": "code",
    "executionInfo": {
     "elapsed": 284,
     "status": "ok",
     "timestamp": 1599882405194,
     "user": {
      "displayName": "Stemplicity",
      "photoUrl": "https://lh3.googleusercontent.com/a-/AOh14Gj2vCFt-bD5mPBhUWX0QA6xiBgoXQXtwUm2jgjaCg=s64",
      "userId": "10668071569687886186"
     },
     "user_tz": 240
    },
    "id": "zOIOaPKf603q",
    "outputId": "08e917c8-be1b-4202-d68d-34e442a661cc"
   },
   "outputs": [
    {
     "data": {
      "application/vnd.google.colaboratory.intrinsic+json": {
       "type": "string"
      },
      "text/plain": [
       "'HELLO EVERYONE AND WELCOME TO PYTHON FOR FINANCE COURSE!'"
      ]
     },
     "execution_count": 69,
     "metadata": {
      "tags": []
     },
     "output_type": "execute_result"
    }
   ],
   "source": [
    "# Methods on strings \n",
    "# upper will be used to convert the string into upper case\n"
   ]
  },
  {
   "cell_type": "code",
   "execution_count": null,
   "metadata": {
    "colab": {
     "base_uri": "https://localhost:8080/",
     "height": 168
    },
    "colab_type": "code",
    "executionInfo": {
     "elapsed": 277,
     "status": "ok",
     "timestamp": 1599882409484,
     "user": {
      "displayName": "Stemplicity",
      "photoUrl": "https://lh3.googleusercontent.com/a-/AOh14Gj2vCFt-bD5mPBhUWX0QA6xiBgoXQXtwUm2jgjaCg=s64",
      "userId": "10668071569687886186"
     },
     "user_tz": 240
    },
    "id": "cX2lIPy-606m",
    "outputId": "35ae112d-c19b-4498-c9ad-67d540226987"
   },
   "outputs": [
    {
     "data": {
      "text/plain": [
       "['Hello',\n",
       " 'Everyone',\n",
       " 'and',\n",
       " 'Welcome',\n",
       " 'to',\n",
       " 'Python',\n",
       " 'for',\n",
       " 'finance',\n",
       " 'course!']"
      ]
     },
     "execution_count": 70,
     "metadata": {
      "tags": []
     },
     "output_type": "execute_result"
    }
   ],
   "source": [
    "# Split us used to divide up the string into words \n",
    "# The output from split is a list\n"
   ]
  },
  {
   "cell_type": "code",
   "execution_count": null,
   "metadata": {
    "colab": {
     "base_uri": "https://localhost:8080/",
     "height": 34
    },
    "colab_type": "code",
    "executionInfo": {
     "elapsed": 323,
     "status": "ok",
     "timestamp": 1599882416533,
     "user": {
      "displayName": "Stemplicity",
      "photoUrl": "https://lh3.googleusercontent.com/a-/AOh14Gj2vCFt-bD5mPBhUWX0QA6xiBgoXQXtwUm2jgjaCg=s64",
      "userId": "10668071569687886186"
     },
     "user_tz": 240
    },
    "id": "sL0bYlxv8PLN",
    "outputId": "8ca9db08-ee10-438c-9bb5-e73f3af2ed14"
   },
   "outputs": [
    {
     "data": {
      "text/plain": [
       "list"
      ]
     },
     "execution_count": 71,
     "metadata": {
      "tags": []
     },
     "output_type": "execute_result"
    }
   ],
   "source": [
    "# Let's check that the datatype is list!\n"
   ]
  },
  {
   "cell_type": "code",
   "execution_count": null,
   "metadata": {
    "colab": {
     "base_uri": "https://localhost:8080/",
     "height": 35
    },
    "colab_type": "code",
    "executionInfo": {
     "elapsed": 237,
     "status": "ok",
     "timestamp": 1599882439039,
     "user": {
      "displayName": "Stemplicity",
      "photoUrl": "https://lh3.googleusercontent.com/a-/AOh14Gj2vCFt-bD5mPBhUWX0QA6xiBgoXQXtwUm2jgjaCg=s64",
      "userId": "10668071569687886186"
     },
     "user_tz": 240
    },
    "id": "sMlID0mv8Udk",
    "outputId": "0c32d75b-b41e-4eda-9646-32f65609de15"
   },
   "outputs": [
    {
     "data": {
      "application/vnd.google.colaboratory.intrinsic+json": {
       "type": "string"
      },
      "text/plain": [
       "'Everyone'"
      ]
     },
     "execution_count": 73,
     "metadata": {
      "tags": []
     },
     "output_type": "execute_result"
    }
   ],
   "source": [
    "# you can index any element in the list using indexing\n"
   ]
  },
  {
   "cell_type": "code",
   "execution_count": null,
   "metadata": {
    "colab": {
     "base_uri": "https://localhost:8080/",
     "height": 34
    },
    "colab_type": "code",
    "executionInfo": {
     "elapsed": 233,
     "status": "ok",
     "timestamp": 1599882455146,
     "user": {
      "displayName": "Stemplicity",
      "photoUrl": "https://lh3.googleusercontent.com/a-/AOh14Gj2vCFt-bD5mPBhUWX0QA6xiBgoXQXtwUm2jgjaCg=s64",
      "userId": "10668071569687886186"
     },
     "user_tz": 240
    },
    "id": "icNCEq2x609e",
    "outputId": "e827a906-054d-4ce6-b63a-94b6a7d6b2ce"
   },
   "outputs": [
    {
     "data": {
      "text/plain": [
       "['laila.aly', 'gmail.com']"
      ]
     },
     "execution_count": 74,
     "metadata": {
      "tags": []
     },
     "output_type": "execute_result"
    }
   ],
   "source": [
    "# you can specify which letter could be choosed to perform the split\n"
   ]
  },
  {
   "cell_type": "markdown",
   "metadata": {
    "colab_type": "text",
    "id": "9cN9W4bkM-vs"
   },
   "source": [
    "**MINI CHALLENGE #5:**\n",
    "- **Write a code that takes an input from a bank client asking him/her about their feedback regarding the service. The code should split the client input into words and print them on screen**\n"
   ]
  },
  {
   "cell_type": "code",
   "execution_count": null,
   "metadata": {
    "colab": {},
    "colab_type": "code",
    "id": "cWKRpQ7WOSnu"
   },
   "outputs": [],
   "source": []
  },
  {
   "cell_type": "markdown",
   "metadata": {
    "colab_type": "text",
    "id": "EdyxRUooNz5m"
   },
   "source": [
    "**MINI CHALLENGE #6:**\n",
    "- **Write a code that prompts a user requesting his/her e-mail and then extracts the user first name (Note that the e-mail is in firstname.lastname@gmail.com**\n"
   ]
  },
  {
   "cell_type": "code",
   "execution_count": null,
   "metadata": {
    "colab": {},
    "colab_type": "code",
    "id": "0P41ds4zNrKl"
   },
   "outputs": [],
   "source": []
  },
  {
   "cell_type": "markdown",
   "metadata": {
    "colab_type": "text",
    "id": "A0luXBRqEGai"
   },
   "source": [
    "# 5. TUPLES"
   ]
  },
  {
   "cell_type": "code",
   "execution_count": null,
   "metadata": {
    "colab": {},
    "colab_type": "code",
    "id": "WNh06IuWENEw"
   },
   "outputs": [],
   "source": [
    "# A tuple is a sequence of immutable Python objects. \n",
    "# Tuples are sequences, just like lists. \n",
    "# The differences between tuples and lists are, the tuples cannot be changed unlike lists and tuples use parentheses, whereas lists use square brackets."
   ]
  },
  {
   "cell_type": "code",
   "execution_count": null,
   "metadata": {
    "colab": {
     "base_uri": "https://localhost:8080/",
     "height": 34
    },
    "colab_type": "code",
    "executionInfo": {
     "elapsed": 290,
     "status": "ok",
     "timestamp": 1599882741544,
     "user": {
      "displayName": "Stemplicity",
      "photoUrl": "https://lh3.googleusercontent.com/a-/AOh14Gj2vCFt-bD5mPBhUWX0QA6xiBgoXQXtwUm2jgjaCg=s64",
      "userId": "10668071569687886186"
     },
     "user_tz": 240
    },
    "id": "U0fyXOJPENDi",
    "outputId": "e29fe9db-7fb6-46eb-cbba-55278e38da26"
   },
   "outputs": [
    {
     "data": {
      "text/plain": [
       "tuple"
      ]
     },
     "execution_count": 78,
     "metadata": {
      "tags": []
     },
     "output_type": "execute_result"
    }
   ],
   "source": []
  },
  {
   "cell_type": "code",
   "execution_count": null,
   "metadata": {
    "colab": {
     "base_uri": "https://localhost:8080/",
     "height": 34
    },
    "colab_type": "code",
    "executionInfo": {
     "elapsed": 287,
     "status": "ok",
     "timestamp": 1599882744226,
     "user": {
      "displayName": "Stemplicity",
      "photoUrl": "https://lh3.googleusercontent.com/a-/AOh14Gj2vCFt-bD5mPBhUWX0QA6xiBgoXQXtwUm2jgjaCg=s64",
      "userId": "10668071569687886186"
     },
     "user_tz": 240
    },
    "id": "STfK4bAoEM_8",
    "outputId": "8a8dc2ce-3c81-465b-ffa8-2f60d9e81c2a"
   },
   "outputs": [
    {
     "data": {
      "text/plain": [
       "('GOOG', 'APPL', 10, 15, 1992)"
      ]
     },
     "execution_count": 79,
     "metadata": {
      "tags": []
     },
     "output_type": "execute_result"
    }
   ],
   "source": []
  },
  {
   "cell_type": "code",
   "execution_count": null,
   "metadata": {
    "colab": {
     "base_uri": "https://localhost:8080/",
     "height": 35
    },
    "colab_type": "code",
    "executionInfo": {
     "elapsed": 283,
     "status": "ok",
     "timestamp": 1599882752419,
     "user": {
      "displayName": "Stemplicity",
      "photoUrl": "https://lh3.googleusercontent.com/a-/AOh14Gj2vCFt-bD5mPBhUWX0QA6xiBgoXQXtwUm2jgjaCg=s64",
      "userId": "10668071569687886186"
     },
     "user_tz": 240
    },
    "id": "my6d1Ou-EM-y",
    "outputId": "944d879e-a450-49a7-fa28-d364d9fbd058"
   },
   "outputs": [
    {
     "data": {
      "application/vnd.google.colaboratory.intrinsic+json": {
       "type": "string"
      },
      "text/plain": [
       "'APPL'"
      ]
     },
     "execution_count": 80,
     "metadata": {
      "tags": []
     },
     "output_type": "execute_result"
    }
   ],
   "source": [
    "# Accessing elements in a tuple\n"
   ]
  },
  {
   "cell_type": "code",
   "execution_count": null,
   "metadata": {
    "colab": {
     "base_uri": "https://localhost:8080/",
     "height": 34
    },
    "colab_type": "code",
    "executionInfo": {
     "elapsed": 166,
     "status": "ok",
     "timestamp": 1599882752775,
     "user": {
      "displayName": "Stemplicity",
      "photoUrl": "https://lh3.googleusercontent.com/a-/AOh14Gj2vCFt-bD5mPBhUWX0QA6xiBgoXQXtwUm2jgjaCg=s64",
      "userId": "10668071569687886186"
     },
     "user_tz": 240
    },
    "id": "IIeC1e3qEWz6",
    "outputId": "6b93482f-f7ba-4237-9749-cf86ca75b560"
   },
   "outputs": [
    {
     "data": {
      "text/plain": [
       "('APPL', 10)"
      ]
     },
     "execution_count": 81,
     "metadata": {
      "tags": []
     },
     "output_type": "execute_result"
    }
   ],
   "source": [
    "# Tuple slicing\n"
   ]
  },
  {
   "cell_type": "code",
   "execution_count": null,
   "metadata": {
    "colab": {
     "base_uri": "https://localhost:8080/",
     "height": 195
    },
    "colab_type": "code",
    "executionInfo": {
     "elapsed": 310,
     "status": "error",
     "timestamp": 1599882753662,
     "user": {
      "displayName": "Stemplicity",
      "photoUrl": "https://lh3.googleusercontent.com/a-/AOh14Gj2vCFt-bD5mPBhUWX0QA6xiBgoXQXtwUm2jgjaCg=s64",
      "userId": "10668071569687886186"
     },
     "user_tz": 240
    },
    "id": "o_yady6jEWwL",
    "outputId": "543a5c20-4c4b-49f2-8ad3-185fef738464"
   },
   "outputs": [
    {
     "ename": "TypeError",
     "evalue": "ignored",
     "output_type": "error",
     "traceback": [
      "\u001b[0;31m---------------------------------------------------------------------------\u001b[0m",
      "\u001b[0;31mTypeError\u001b[0m                                 Traceback (most recent call last)",
      "\u001b[0;32m<ipython-input-82-0d93d25c1b58>\u001b[0m in \u001b[0;36m<module>\u001b[0;34m()\u001b[0m\n\u001b[1;32m      1\u001b[0m \u001b[0;31m# Changing a vlue of a tuple does not work!\u001b[0m\u001b[0;34m\u001b[0m\u001b[0;34m\u001b[0m\u001b[0;34m\u001b[0m\u001b[0m\n\u001b[1;32m      2\u001b[0m \u001b[0;31m# 'tuple' object does not support item assignment\u001b[0m\u001b[0;34m\u001b[0m\u001b[0;34m\u001b[0m\u001b[0;34m\u001b[0m\u001b[0m\n\u001b[0;32m----> 3\u001b[0;31m \u001b[0mtuple_1\u001b[0m\u001b[0;34m[\u001b[0m\u001b[0;36m1\u001b[0m\u001b[0;34m]\u001b[0m \u001b[0;34m=\u001b[0m \u001b[0;36m0\u001b[0m\u001b[0;34m\u001b[0m\u001b[0;34m\u001b[0m\u001b[0m\n\u001b[0m",
      "\u001b[0;31mTypeError\u001b[0m: 'tuple' object does not support item assignment"
     ]
    }
   ],
   "source": [
    "# Changing a vlue of a tuple does not work! \n",
    "# 'tuple' object does not support item assignment\n"
   ]
  },
  {
   "cell_type": "code",
   "execution_count": null,
   "metadata": {
    "colab": {
     "base_uri": "https://localhost:8080/",
     "height": 34
    },
    "colab_type": "code",
    "executionInfo": {
     "elapsed": 249,
     "status": "ok",
     "timestamp": 1599882759166,
     "user": {
      "displayName": "Stemplicity",
      "photoUrl": "https://lh3.googleusercontent.com/a-/AOh14Gj2vCFt-bD5mPBhUWX0QA6xiBgoXQXtwUm2jgjaCg=s64",
      "userId": "10668071569687886186"
     },
     "user_tz": 240
    },
    "id": "BCgEz7CdEWuP",
    "outputId": "5239542e-fe3c-4a6d-e846-cbf3bc5ed81a"
   },
   "outputs": [
    {
     "data": {
      "text/plain": [
       "('GOOG', 'APPL', 10, 15, 1992, 450, 55, 977, 2100)"
      ]
     },
     "execution_count": 83,
     "metadata": {
      "tags": []
     },
     "output_type": "execute_result"
    }
   ],
   "source": [
    "# Create a New Tuple from existing Tuples\n"
   ]
  },
  {
   "cell_type": "markdown",
   "metadata": {
    "colab_type": "text",
    "id": "RmZ49NcKPKII"
   },
   "source": [
    "**MINI CHALLENGE #7:**\n",
    "- **Define a tuple with your first name, last name, age and the number of stocks in your portfolio. Find the length and type as well.**\n"
   ]
  },
  {
   "cell_type": "code",
   "execution_count": null,
   "metadata": {
    "colab": {},
    "colab_type": "code",
    "id": "xMKjCcejQtJI"
   },
   "outputs": [],
   "source": []
  },
  {
   "cell_type": "markdown",
   "metadata": {
    "colab_type": "text",
    "id": "B7clmiIJEJF0"
   },
   "source": [
    "# 6. SETS "
   ]
  },
  {
   "cell_type": "code",
   "execution_count": null,
   "metadata": {
    "colab": {
     "base_uri": "https://localhost:8080/",
     "height": 34
    },
    "colab_type": "code",
    "executionInfo": {
     "elapsed": 240,
     "status": "ok",
     "timestamp": 1599882788973,
     "user": {
      "displayName": "Stemplicity",
      "photoUrl": "https://lh3.googleusercontent.com/a-/AOh14Gj2vCFt-bD5mPBhUWX0QA6xiBgoXQXtwUm2jgjaCg=s64",
      "userId": "10668071569687886186"
     },
     "user_tz": 240
    },
    "id": "wRAHn1SiEN2I",
    "outputId": "04f3f579-feaf-49b1-e6ce-808e87df8abf"
   },
   "outputs": [
    {
     "name": "stdout",
     "output_type": "stream",
     "text": [
      "{'GOOG', 'T', 'APPL'}\n"
     ]
    }
   ],
   "source": [
    "# A set is an unordered collection of items. Every element is unique (no duplicates).\n",
    "# A set is created by placing all the items (elements) inside curly braces {}, separated by comma or by using the built-in function set().\n",
    "# set of integers\n",
    "\n"
   ]
  },
  {
   "cell_type": "code",
   "execution_count": null,
   "metadata": {
    "colab": {
     "base_uri": "https://localhost:8080/",
     "height": 34
    },
    "colab_type": "code",
    "executionInfo": {
     "elapsed": 220,
     "status": "ok",
     "timestamp": 1599882793099,
     "user": {
      "displayName": "Stemplicity",
      "photoUrl": "https://lh3.googleusercontent.com/a-/AOh14Gj2vCFt-bD5mPBhUWX0QA6xiBgoXQXtwUm2jgjaCg=s64",
      "userId": "10668071569687886186"
     },
     "user_tz": 240
    },
    "id": "4Y6cT3ykENzZ",
    "outputId": "05311007-31fa-45ca-ed9e-136d68db2f1f"
   },
   "outputs": [
    {
     "name": "stdout",
     "output_type": "stream",
     "text": [
      "{'T', 'APPL', 'GOOG', 'TSLA', 'AAPL'}\n"
     ]
    }
   ],
   "source": [
    "# set do not have duplicates\n"
   ]
  },
  {
   "cell_type": "markdown",
   "metadata": {
    "colab_type": "text",
    "id": "XjibM376ROGD"
   },
   "source": [
    "**MINI CHALLENGE #8:**\n",
    "- **Remove the duplicates from the following list:**\n",
    "\n",
    "\n",
    "```\n",
    "my_list = ['GOOG', 'APPL', 'T','TSLA','T','AAPL', 5, 6,5]\n",
    "```\n",
    "\n",
    "\n"
   ]
  },
  {
   "cell_type": "code",
   "execution_count": null,
   "metadata": {
    "colab": {},
    "colab_type": "code",
    "id": "EpKrum8GSOuv"
   },
   "outputs": [],
   "source": []
  },
  {
   "cell_type": "markdown",
   "metadata": {
    "colab_type": "text",
    "id": "OlonkaQNGdsP"
   },
   "source": [
    "# MINI CHALLENGE SOLUTIONS"
   ]
  },
  {
   "cell_type": "markdown",
   "metadata": {
    "colab_type": "text",
    "id": "bDojguHPUkBD"
   },
   "source": [
    "**MINI CHALLENGE #1 SOLUTION:** \n",
    "- **What will this code generate?**\n",
    "```\n",
    "stock_1_price = 20\n",
    "stock_2_price = 30\n",
    "print((stock_1_price < stock_2_price))\n",
    "print(stock_1_price == stock_2_price)\n",
    "```"
   ]
  },
  {
   "cell_type": "code",
   "execution_count": null,
   "metadata": {
    "colab": {
     "base_uri": "https://localhost:8080/",
     "height": 50
    },
    "colab_type": "code",
    "executionInfo": {
     "elapsed": 278,
     "status": "ok",
     "timestamp": 1599880679267,
     "user": {
      "displayName": "Stemplicity",
      "photoUrl": "https://lh3.googleusercontent.com/a-/AOh14Gj2vCFt-bD5mPBhUWX0QA6xiBgoXQXtwUm2jgjaCg=s64",
      "userId": "10668071569687886186"
     },
     "user_tz": 240
    },
    "id": "wRRbOc1ZUkBG",
    "outputId": "ffb51f81-618b-469c-9003-47060bbd993a"
   },
   "outputs": [
    {
     "name": "stdout",
     "output_type": "stream",
     "text": [
      "True\n",
      "False\n"
     ]
    }
   ],
   "source": [
    "stock_1_price = 20\n",
    "stock_2_price = 30\n",
    "print((stock_1_price < stock_2_price))\n",
    "print(stock_1_price == stock_2_price)"
   ]
  },
  {
   "cell_type": "markdown",
   "metadata": {
    "colab_type": "text",
    "id": "T1ru2bTNHmoL"
   },
   "source": [
    "**MINI CHALLENGE #2 SOLUTION:**\n",
    "- **Print the first, second and last element in the list**\n",
    "- **Print all elements in the list, first 3 elements, and last three elements**\n",
    "\n",
    "```\n",
    "stocks = [\"GOOG\", \"TSLA\", \"AAPL\", \"T\", \"SP500\", \"BTC\", \"EUR/USD\"]\n",
    "```\n",
    "\n"
   ]
  },
  {
   "cell_type": "code",
   "execution_count": null,
   "metadata": {
    "colab": {
     "base_uri": "https://localhost:8080/",
     "height": 67
    },
    "colab_type": "code",
    "executionInfo": {
     "elapsed": 251,
     "status": "ok",
     "timestamp": 1599881903235,
     "user": {
      "displayName": "Stemplicity",
      "photoUrl": "https://lh3.googleusercontent.com/a-/AOh14Gj2vCFt-bD5mPBhUWX0QA6xiBgoXQXtwUm2jgjaCg=s64",
      "userId": "10668071569687886186"
     },
     "user_tz": 240
    },
    "id": "q9ayDKUZGlrZ",
    "outputId": "14251325-5c06-4f31-9163-c4290f2aeea1"
   },
   "outputs": [
    {
     "name": "stdout",
     "output_type": "stream",
     "text": [
      "GOOG\n",
      "TSLA\n",
      "EUR/USD\n"
     ]
    }
   ],
   "source": [
    "stocks = [\"GOOG\", \"TSLA\", \"AAPL\", \"T\", \"SP500\", \"BTC\", \"EUR/USD\"]\n",
    "print(stocks[0])\n",
    "print(stocks[1])\n",
    "print(stocks[-1])"
   ]
  },
  {
   "cell_type": "code",
   "execution_count": null,
   "metadata": {
    "colab": {},
    "colab_type": "code",
    "id": "4WgvQ2ZTdJMZ"
   },
   "outputs": [],
   "source": [
    "print(stocks[:])\n",
    "print(stocks[0:3])\n",
    "print(stocks[4:])"
   ]
  },
  {
   "cell_type": "markdown",
   "metadata": {
    "colab_type": "text",
    "id": "UkLWVRadJqEx"
   },
   "source": [
    "**MINI CHALLENGE #3 SOLUTION:** \n",
    "- **Print GOOG**\n",
    "- **Print AAPL, GOOG, TSLA** \n",
    "- **Print T with two different ways**\n",
    "\n",
    "```\n",
    "my_list = [\"SP500\", [\"AAPL\", \"GOOG\", \"TSLA\"], \"BTC\", \"T\"]\n",
    "```\n"
   ]
  },
  {
   "cell_type": "code",
   "execution_count": null,
   "metadata": {
    "colab": {},
    "colab_type": "code",
    "id": "ehC3hFiaJ1tI"
   },
   "outputs": [],
   "source": [
    "my_list = [\"SP500\", [\"AAPL\", \"GOOG\", \"TSLA\"], \"BTC\", \"T\"]"
   ]
  },
  {
   "cell_type": "code",
   "execution_count": null,
   "metadata": {
    "colab": {
     "base_uri": "https://localhost:8080/",
     "height": 34
    },
    "colab_type": "code",
    "executionInfo": {
     "elapsed": 261,
     "status": "ok",
     "timestamp": 1599881915958,
     "user": {
      "displayName": "Stemplicity",
      "photoUrl": "https://lh3.googleusercontent.com/a-/AOh14Gj2vCFt-bD5mPBhUWX0QA6xiBgoXQXtwUm2jgjaCg=s64",
      "userId": "10668071569687886186"
     },
     "user_tz": 240
    },
    "id": "gbsBgd3IHtDl",
    "outputId": "310efabf-6f26-49bc-dae0-8f3d6fbaf88b"
   },
   "outputs": [
    {
     "name": "stdout",
     "output_type": "stream",
     "text": [
      "GOOG\n"
     ]
    }
   ],
   "source": [
    "print(my_list[1][1])"
   ]
  },
  {
   "cell_type": "code",
   "execution_count": null,
   "metadata": {
    "colab": {
     "base_uri": "https://localhost:8080/",
     "height": 34
    },
    "colab_type": "code",
    "executionInfo": {
     "elapsed": 275,
     "status": "ok",
     "timestamp": 1599881919058,
     "user": {
      "displayName": "Stemplicity",
      "photoUrl": "https://lh3.googleusercontent.com/a-/AOh14Gj2vCFt-bD5mPBhUWX0QA6xiBgoXQXtwUm2jgjaCg=s64",
      "userId": "10668071569687886186"
     },
     "user_tz": 240
    },
    "id": "0jim9gFbJudm",
    "outputId": "c5de8f72-e9d8-4184-ad6b-028621b98d3c"
   },
   "outputs": [
    {
     "name": "stdout",
     "output_type": "stream",
     "text": [
      "['AAPL', 'GOOG', 'TSLA']\n"
     ]
    }
   ],
   "source": [
    "print(my_list[1])"
   ]
  },
  {
   "cell_type": "code",
   "execution_count": null,
   "metadata": {
    "colab": {
     "base_uri": "https://localhost:8080/",
     "height": 34
    },
    "colab_type": "code",
    "executionInfo": {
     "elapsed": 308,
     "status": "ok",
     "timestamp": 1599881920460,
     "user": {
      "displayName": "Stemplicity",
      "photoUrl": "https://lh3.googleusercontent.com/a-/AOh14Gj2vCFt-bD5mPBhUWX0QA6xiBgoXQXtwUm2jgjaCg=s64",
      "userId": "10668071569687886186"
     },
     "user_tz": 240
    },
    "id": "ze7mvHDaJucK",
    "outputId": "35344c26-3fdf-4ef1-8fce-3c0b1d6c7f5f"
   },
   "outputs": [
    {
     "name": "stdout",
     "output_type": "stream",
     "text": [
      "T\n"
     ]
    }
   ],
   "source": [
    "print(my_list[3])"
   ]
  },
  {
   "cell_type": "code",
   "execution_count": null,
   "metadata": {
    "colab": {
     "base_uri": "https://localhost:8080/",
     "height": 34
    },
    "colab_type": "code",
    "executionInfo": {
     "elapsed": 307,
     "status": "ok",
     "timestamp": 1599881922395,
     "user": {
      "displayName": "Stemplicity",
      "photoUrl": "https://lh3.googleusercontent.com/a-/AOh14Gj2vCFt-bD5mPBhUWX0QA6xiBgoXQXtwUm2jgjaCg=s64",
      "userId": "10668071569687886186"
     },
     "user_tz": 240
    },
    "id": "xrSiB-jqJuYA",
    "outputId": "2fd723d5-a04d-4de8-c070-d23851e13d84"
   },
   "outputs": [
    {
     "name": "stdout",
     "output_type": "stream",
     "text": [
      "T\n"
     ]
    }
   ],
   "source": [
    "print(my_list[-1])"
   ]
  },
  {
   "cell_type": "markdown",
   "metadata": {
    "colab_type": "text",
    "id": "R3Wx0fsDMJN5"
   },
   "source": [
    "**MINI CHALLENGE #4 SOLUTION:**\n",
    "- **Create a dictionary with 3 of your favourite stocks and their prices** "
   ]
  },
  {
   "cell_type": "code",
   "execution_count": null,
   "metadata": {
    "colab": {
     "base_uri": "https://localhost:8080/",
     "height": 34
    },
    "colab_type": "code",
    "executionInfo": {
     "elapsed": 302,
     "status": "ok",
     "timestamp": 1599882239068,
     "user": {
      "displayName": "Stemplicity",
      "photoUrl": "https://lh3.googleusercontent.com/a-/AOh14Gj2vCFt-bD5mPBhUWX0QA6xiBgoXQXtwUm2jgjaCg=s64",
      "userId": "10668071569687886186"
     },
     "user_tz": 240
    },
    "id": "ySbAAjGkMJ7y",
    "outputId": "1ebb4abe-e06e-43c2-b2bd-c2d832bf59db"
   },
   "outputs": [
    {
     "name": "stdout",
     "output_type": "stream",
     "text": [
      "{'SP500': 3000, 'AAPL': 400, 'TSLA': 2200}\n"
     ]
    }
   ],
   "source": [
    "stocks = {\"SP500\": 3000, \n",
    "          \"AAPL\": 400,\n",
    "          \"TSLA\": 2200}\n",
    "print(stocks)\n"
   ]
  },
  {
   "cell_type": "markdown",
   "metadata": {
    "colab_type": "text",
    "id": "_4QByu-tNjpA"
   },
   "source": [
    "**MINI CHALLENGE #5 SOLUTION:**\n",
    "- **Write a code that takes an input from a bank client asking him/her about their feedback regarding the service. The code should split the client input into words and print them on screen**\n"
   ]
  },
  {
   "cell_type": "code",
   "execution_count": null,
   "metadata": {
    "colab": {
     "base_uri": "https://localhost:8080/",
     "height": 50
    },
    "colab_type": "code",
    "executionInfo": {
     "elapsed": 27670,
     "status": "ok",
     "timestamp": 1599882689368,
     "user": {
      "displayName": "Stemplicity",
      "photoUrl": "https://lh3.googleusercontent.com/a-/AOh14Gj2vCFt-bD5mPBhUWX0QA6xiBgoXQXtwUm2jgjaCg=s64",
      "userId": "10668071569687886186"
     },
     "user_tz": 240
    },
    "id": "nLWrLgB-NjpB",
    "outputId": "3f0f1c9f-7ed4-4898-af9d-09272d1ed727"
   },
   "outputs": [
    {
     "name": "stdout",
     "output_type": "stream",
     "text": [
      "What did we do at the bank today? are you satisfied with the serviceMy experience today was positive, the service is perfect! great job everyone\n",
      "Here are the list of words you entered: ['My', 'experience', 'today', 'was', 'positive,', 'the', 'service', 'is', 'perfect!', 'great', 'job', 'everyone']\n"
     ]
    }
   ],
   "source": [
    "my_string = str(input(\"What did we do at the bank today? are you satisfied with the service\"))\n",
    "words = my_string.split(\" \")\n",
    "print(\"Here are the list of words you entered:\", words)"
   ]
  },
  {
   "cell_type": "markdown",
   "metadata": {
    "colab_type": "text",
    "id": "bFCp0wXKOqmz"
   },
   "source": [
    "**MINI CHALLENGE #6 SOLUTION:**\n",
    "- **Write a code that prompts a user requesting his/her e-mail and then extracts the user first name (Note that the e-mail is in firstname.lastname@gmail.com**\n"
   ]
  },
  {
   "cell_type": "code",
   "execution_count": null,
   "metadata": {
    "colab": {
     "base_uri": "https://localhost:8080/",
     "height": 50
    },
    "colab_type": "code",
    "executionInfo": {
     "elapsed": 14740,
     "status": "ok",
     "timestamp": 1599882711382,
     "user": {
      "displayName": "Stemplicity",
      "photoUrl": "https://lh3.googleusercontent.com/a-/AOh14Gj2vCFt-bD5mPBhUWX0QA6xiBgoXQXtwUm2jgjaCg=s64",
      "userId": "10668071569687886186"
     },
     "user_tz": 240
    },
    "id": "mtgJJ3FaOqm0",
    "outputId": "6b9e8ef7-6da5-4d23-c248-064b96eaed96"
   },
   "outputs": [
    {
     "name": "stdout",
     "output_type": "stream",
     "text": [
      "Enter your e-mail address:ryan.ahmed@yahoo.com\n",
      "ryan\n"
     ]
    }
   ],
   "source": [
    "input_str = input(\"Welcome to the bank, please enter your e-mail address:\")\n",
    "out_str = input_str.split('@')\n",
    "out_str = out_str[0].split('.')\n",
    "print(out_str[0])"
   ]
  },
  {
   "cell_type": "markdown",
   "metadata": {
    "colab_type": "text",
    "id": "L0OUSq6pQhNI"
   },
   "source": [
    "**MINI CHALLENGE #7 SOLUTION:**\n",
    "- **Define a tuple with your first name, last name, age and the number of stocks in your portfolio. Find the length and type as well.**\n"
   ]
  },
  {
   "cell_type": "code",
   "execution_count": null,
   "metadata": {
    "colab": {
     "base_uri": "https://localhost:8080/",
     "height": 34
    },
    "colab_type": "code",
    "executionInfo": {
     "elapsed": 244,
     "status": "ok",
     "timestamp": 1599882773052,
     "user": {
      "displayName": "Stemplicity",
      "photoUrl": "https://lh3.googleusercontent.com/a-/AOh14Gj2vCFt-bD5mPBhUWX0QA6xiBgoXQXtwUm2jgjaCg=s64",
      "userId": "10668071569687886186"
     },
     "user_tz": 240
    },
    "id": "aACA3yR3QhNJ",
    "outputId": "03b71595-0746-40b0-bc2d-a62014129a6a"
   },
   "outputs": [
    {
     "name": "stdout",
     "output_type": "stream",
     "text": [
      "('Ryan', 'ahmed', 25, 10)\n"
     ]
    }
   ],
   "source": [
    "my_tuple = (\"Ryan\", \"ahmed\", 25, 10)\n",
    "print(my_tuple)"
   ]
  },
  {
   "cell_type": "code",
   "execution_count": null,
   "metadata": {
    "colab": {
     "base_uri": "https://localhost:8080/",
     "height": 34
    },
    "colab_type": "code",
    "executionInfo": {
     "elapsed": 278,
     "status": "ok",
     "timestamp": 1599882777198,
     "user": {
      "displayName": "Stemplicity",
      "photoUrl": "https://lh3.googleusercontent.com/a-/AOh14Gj2vCFt-bD5mPBhUWX0QA6xiBgoXQXtwUm2jgjaCg=s64",
      "userId": "10668071569687886186"
     },
     "user_tz": 240
    },
    "id": "ek6Lj_1YQhNN",
    "outputId": "9139a966-4bfc-4664-a79c-360052d3dbd1"
   },
   "outputs": [
    {
     "data": {
      "text/plain": [
       "4"
      ]
     },
     "execution_count": 85,
     "metadata": {
      "tags": []
     },
     "output_type": "execute_result"
    }
   ],
   "source": [
    "len(my_tuple)"
   ]
  },
  {
   "cell_type": "code",
   "execution_count": null,
   "metadata": {
    "colab": {
     "base_uri": "https://localhost:8080/",
     "height": 34
    },
    "colab_type": "code",
    "executionInfo": {
     "elapsed": 226,
     "status": "ok",
     "timestamp": 1599882778763,
     "user": {
      "displayName": "Stemplicity",
      "photoUrl": "https://lh3.googleusercontent.com/a-/AOh14Gj2vCFt-bD5mPBhUWX0QA6xiBgoXQXtwUm2jgjaCg=s64",
      "userId": "10668071569687886186"
     },
     "user_tz": 240
    },
    "id": "wjbkGK-mQhNS",
    "outputId": "0f5292d1-d7d9-4825-edab-86821df5332c"
   },
   "outputs": [
    {
     "data": {
      "text/plain": [
       "tuple"
      ]
     },
     "execution_count": 86,
     "metadata": {
      "tags": []
     },
     "output_type": "execute_result"
    }
   ],
   "source": [
    "type(my_tuple)"
   ]
  },
  {
   "cell_type": "markdown",
   "metadata": {
    "colab_type": "text",
    "id": "RrBoe1NJRmBi"
   },
   "source": [
    "**MINI CHALLENGE #8 SOLUTION:**\n",
    "- **Remove the duplicates from the following list:**\n",
    "\n",
    "\n",
    "```\n",
    "my_list = ['GOOG', 'APPL', 'T','TSLA','T','AAPL', 5, 6,5]\n",
    "```\n",
    "\n",
    "\n"
   ]
  },
  {
   "cell_type": "code",
   "execution_count": null,
   "metadata": {
    "colab": {
     "base_uri": "https://localhost:8080/",
     "height": 34
    },
    "colab_type": "code",
    "executionInfo": {
     "elapsed": 273,
     "status": "ok",
     "timestamp": 1599882846090,
     "user": {
      "displayName": "Stemplicity",
      "photoUrl": "https://lh3.googleusercontent.com/a-/AOh14Gj2vCFt-bD5mPBhUWX0QA6xiBgoXQXtwUm2jgjaCg=s64",
      "userId": "10668071569687886186"
     },
     "user_tz": 240
    },
    "id": "e3rGkHmnRnPf",
    "outputId": "559f6ada-be05-4271-e1f6-0f7004694be5"
   },
   "outputs": [
    {
     "name": "stdout",
     "output_type": "stream",
     "text": [
      "[5, 6, 'T', 'APPL', 'GOOG', 'TSLA', 'AAPL']\n"
     ]
    }
   ],
   "source": [
    "my_list = ['GOOG', 'APPL', 'T','TSLA','T','AAPL', 5, 6, 5]\n",
    "out_list = list(set(my_list))\n",
    "print(out_list)"
   ]
  },
  {
   "cell_type": "code",
   "execution_count": null,
   "metadata": {
    "colab": {},
    "colab_type": "code",
    "id": "Cwtyay_9UiZD"
   },
   "outputs": [],
   "source": []
  }
 ],
 "metadata": {
  "colab": {
   "collapsed_sections": [],
   "name": "2. Python 101 - Data Types - Skeleton.ipynb",
   "provenance": []
  },
  "hide_input": false,
  "kernelspec": {
   "display_name": "Python 3",
   "language": "python",
   "name": "python3"
  },
  "language_info": {
   "codemirror_mode": {
    "name": "ipython",
    "version": 3
   },
   "file_extension": ".py",
   "mimetype": "text/x-python",
   "name": "python",
   "nbconvert_exporter": "python",
   "pygments_lexer": "ipython3",
   "version": "3.8.5"
  },
  "latex_envs": {
   "LaTeX_envs_menu_present": true,
   "autoclose": false,
   "autocomplete": true,
   "bibliofile": "biblio.bib",
   "cite_by": "apalike",
   "current_citInitial": 1,
   "eqLabelWithNumbers": true,
   "eqNumInitial": 1,
   "hotkeys": {
    "equation": "Ctrl-E",
    "itemize": "Ctrl-I"
   },
   "labels_anchors": false,
   "latex_user_defs": false,
   "report_style_numbering": false,
   "user_envs_cfg": false
  },
  "varInspector": {
   "cols": {
    "lenName": 16,
    "lenType": 16,
    "lenVar": 40
   },
   "kernels_config": {
    "python": {
     "delete_cmd_postfix": "",
     "delete_cmd_prefix": "del ",
     "library": "var_list.py",
     "varRefreshCmd": "print(var_dic_list())"
    },
    "r": {
     "delete_cmd_postfix": ") ",
     "delete_cmd_prefix": "rm(",
     "library": "var_list.r",
     "varRefreshCmd": "cat(var_dic_list()) "
    }
   },
   "types_to_exclude": [
    "module",
    "function",
    "builtin_function_or_method",
    "instance",
    "_Feature"
   ],
   "window_display": false
  }
 },
 "nbformat": 4,
 "nbformat_minor": 1
}
