{
 "cells": [
  {
   "cell_type": "markdown",
   "metadata": {
    "colab_type": "text",
    "id": "B1KBXIYhkuw5"
   },
   "source": [
    "# 1. VARIABLES ASSIGNMENT"
   ]
  },
  {
   "cell_type": "code",
   "execution_count": 3,
   "metadata": {
    "ExecuteTime": {
     "end_time": "2020-11-09T15:47:05.324213Z",
     "start_time": "2020-11-09T15:47:05.318315Z"
    },
    "colab": {},
    "colab_type": "code",
    "id": "wsrqiWxMlQcd"
   },
   "outputs": [],
   "source": [
    "# Define a variable named \"portfolio_1\" and assign a number (integer) to it\n",
    "portfolio_1 = 5000"
   ]
  },
  {
   "cell_type": "code",
   "execution_count": 4,
   "metadata": {
    "ExecuteTime": {
     "end_time": "2020-11-09T15:47:05.390855Z",
     "start_time": "2020-11-09T15:47:05.384474Z"
    },
    "colab": {},
    "colab_type": "code",
    "id": "_7BUQ4lalVpE"
   },
   "outputs": [
    {
     "output_type": "execute_result",
     "data": {
      "text/plain": [
       "5000"
      ]
     },
     "metadata": {},
     "execution_count": 4
    }
   ],
   "source": [
    "# Let's view \"portfolio_1\"\n",
    "portfolio_1"
   ]
  },
  {
   "cell_type": "code",
   "execution_count": 6,
   "metadata": {
    "ExecuteTime": {
     "end_time": "2020-11-09T15:47:06.226964Z",
     "start_time": "2020-11-09T15:47:06.219383Z"
    },
    "colab": {},
    "colab_type": "code",
    "id": "5RLjbN6alXBn"
   },
   "outputs": [],
   "source": [
    "# Define a variable named \"portfolio_2\" and assign a number (float) to it\n",
    "portfolio_2 = 2000.5\n"
   ]
  },
  {
   "cell_type": "code",
   "execution_count": 7,
   "metadata": {
    "ExecuteTime": {
     "end_time": "2020-11-09T15:47:06.413123Z",
     "start_time": "2020-11-09T15:47:06.405992Z"
    },
    "colab": {},
    "colab_type": "code",
    "id": "XaseHcnvlY7V"
   },
   "outputs": [
    {
     "output_type": "execute_result",
     "data": {
      "text/plain": [
       "2000.5"
      ]
     },
     "metadata": {},
     "execution_count": 7
    }
   ],
   "source": [
    "# Let's view \"portfolio_2\"\n",
    "portfolio_2"
   ]
  },
  {
   "cell_type": "code",
   "execution_count": 8,
   "metadata": {
    "ExecuteTime": {
     "end_time": "2020-11-09T15:47:06.595641Z",
     "start_time": "2020-11-09T15:47:06.592061Z"
    },
    "colab": {},
    "colab_type": "code",
    "id": "1treMfL5phXx"
   },
   "outputs": [],
   "source": [
    "# Let's overwrite \"portfolio_2\" (assume your portfolio value increased)\n",
    "portfolio_2 = 3000.5"
   ]
  },
  {
   "cell_type": "code",
   "execution_count": 9,
   "metadata": {
    "ExecuteTime": {
     "end_time": "2020-11-09T15:47:06.794857Z",
     "start_time": "2020-11-09T15:47:06.787817Z"
    },
    "colab": {},
    "colab_type": "code",
    "id": "QaBaDH0fp5cf"
   },
   "outputs": [
    {
     "output_type": "execute_result",
     "data": {
      "text/plain": [
       "3000.5"
      ]
     },
     "metadata": {},
     "execution_count": 9
    }
   ],
   "source": [
    "# Notice that \"portfolio_2\" will only contain the most recent value\n",
    "portfolio_2"
   ]
  },
  {
   "cell_type": "code",
   "execution_count": 62,
   "metadata": {
    "ExecuteTime": {
     "end_time": "2020-11-09T15:47:06.967803Z",
     "start_time": "2020-11-09T15:47:06.961621Z"
    },
    "colab": {},
    "colab_type": "code",
    "id": "fqZRkUkilb-5"
   },
   "outputs": [
    {
     "data": {
      "text/plain": [
       "int"
      ]
     },
     "execution_count": 62,
     "metadata": {},
     "output_type": "execute_result"
    }
   ],
   "source": [
    "# Get the type of \"portfolio_1\" which is integer\n",
    "# integer is a whole number (no decimals) that could be positive or negative\n",
    "type(portfolio_1)"
   ]
  },
  {
   "cell_type": "code",
   "execution_count": 63,
   "metadata": {
    "ExecuteTime": {
     "end_time": "2020-11-09T15:47:07.148553Z",
     "start_time": "2020-11-09T15:47:07.136332Z"
    },
    "colab": {},
    "colab_type": "code",
    "id": "T0Rszu5xlceK"
   },
   "outputs": [
    {
     "data": {
      "text/plain": [
       "float"
      ]
     },
     "execution_count": 63,
     "metadata": {},
     "output_type": "execute_result"
    }
   ],
   "source": [
    "# Get the type of \"portfolio_2\" which is float\n",
    "# Float are real numbers with a decimal point dividing the integer and fractional parts\n",
    "type(portfolio_2)"
   ]
  },
  {
   "cell_type": "markdown",
   "metadata": {
    "colab_type": "text",
    "id": "75YN6NcVlv50"
   },
   "source": [
    "**MINI CHALLENGE #1:**\n",
    "- **We defined a variable AMZN (Ticker symbol for Amazon stock) and we assigned these 3 values listed below to it. Without executing any code cells, what will these lines of code generate?**\n",
    "- **Verify your answer by executing the code cells** \n",
    "\n",
    "\n",
    "\n",
    "```\n",
    "AMZN = 3324\n",
    "AMZN = 3400\n",
    "AMZN = 3530\n",
    "AMZN\n",
    "```\n"
   ]
  },
  {
   "cell_type": "code",
   "execution_count": 64,
   "metadata": {
    "ExecuteTime": {
     "end_time": "2020-11-09T15:47:07.646781Z",
     "start_time": "2020-11-09T15:47:07.639665Z"
    },
    "colab": {},
    "colab_type": "code",
    "id": "AbXq1BsUpcpu"
   },
   "outputs": [
    {
     "data": {
      "text/plain": [
       "3530"
      ]
     },
     "execution_count": 64,
     "metadata": {},
     "output_type": "execute_result"
    }
   ],
   "source": [
    "AMZN = 3324\n",
    "AMZN = 3400\n",
    "AMZN = 3530\n",
    "AMZN"
   ]
  },
  {
   "cell_type": "markdown",
   "metadata": {
    "colab_type": "text",
    "id": "m-cJsnjeoFOa"
   },
   "source": [
    "**MINI CHALLENGE #2:**\n",
    "- **We defined a variable AAPL (Ticker symbol for Apple stock) and we assigned these 2 values listed below to it. Without executing any code cells, what will these lines of code generate?**\n",
    "- **Verify your answer by executing the code cells** \n",
    "\n",
    "\n",
    "\n",
    "```\n",
    "AAPL = 112\n",
    "AAPL = 115.3\n",
    "type(AAPL)\n",
    "```\n"
   ]
  },
  {
   "cell_type": "code",
   "execution_count": 65,
   "metadata": {
    "ExecuteTime": {
     "end_time": "2020-11-09T15:47:08.317338Z",
     "start_time": "2020-11-09T15:47:08.307387Z"
    },
    "colab": {},
    "colab_type": "code",
    "id": "wjaFVDJ2oESl"
   },
   "outputs": [
    {
     "name": "stdout",
     "output_type": "stream",
     "text": [
      "115.3\n"
     ]
    }
   ],
   "source": [
    "# Float \n",
    "\n",
    "AAPL = 112\n",
    "AAPL = 115.3\n",
    "type(AAPL)\n",
    "print(AAPL)"
   ]
  },
  {
   "cell_type": "markdown",
   "metadata": {
    "colab_type": "text",
    "id": "lsCfJJEkkqGQ"
   },
   "source": [
    "# 2. MATH OPERATIONS"
   ]
  },
  {
   "cell_type": "code",
   "execution_count": 10,
   "metadata": {
    "ExecuteTime": {
     "end_time": "2020-11-09T15:47:08.787637Z",
     "start_time": "2020-11-09T15:47:08.778734Z"
    },
    "colab": {},
    "colab_type": "code",
    "id": "vxspxvj2qTrx"
   },
   "outputs": [
    {
     "output_type": "execute_result",
     "data": {
      "text/plain": [
       "6"
      ]
     },
     "metadata": {},
     "execution_count": 10
    }
   ],
   "source": [
    "# Define a variable named AAPL and initialize it with 5 indicating that we own 5 stocks\n",
    "# Let's assume that we bought an additional stock so now we have 6 stocks instead of 5 \n",
    "# We can increment AAPL by 1 stock as follows:\n",
    "AAPL = 5\n",
    "AAPL + 1"
   ]
  },
  {
   "cell_type": "code",
   "execution_count": 11,
   "metadata": {
    "ExecuteTime": {
     "end_time": "2020-11-09T15:47:08.855746Z",
     "start_time": "2020-11-09T15:47:08.848059Z"
    },
    "colab": {},
    "colab_type": "code",
    "id": "ouiM4Bjar5aG"
   },
   "outputs": [
    {
     "output_type": "execute_result",
     "data": {
      "text/plain": [
       "6"
      ]
     },
     "metadata": {},
     "execution_count": 11
    }
   ],
   "source": [
    "# Alternatively, we can increment the variable AAPL by 1 as follows:\n",
    "AAPL += 1 \n",
    "AAPL"
   ]
  },
  {
   "cell_type": "code",
   "execution_count": 12,
   "metadata": {
    "ExecuteTime": {
     "end_time": "2020-11-09T15:47:09.494385Z",
     "start_time": "2020-11-09T15:47:09.489224Z"
    },
    "colab": {},
    "colab_type": "code",
    "id": "zkO001-qcZc3"
   },
   "outputs": [
    {
     "output_type": "execute_result",
     "data": {
      "text/plain": [
       "1300"
      ]
     },
     "metadata": {},
     "execution_count": 12
    }
   ],
   "source": [
    "# Let's assume that the price of AAPL stock is $260 and we currently have 5 AAPL stocks in our portfolio\n",
    "# We can calculate the total portfolio value (account balance) as follows:\n",
    "AAPL = 5 * 260 \n",
    "AAPL "
   ]
  },
  {
   "cell_type": "code",
   "execution_count": 13,
   "metadata": {
    "ExecuteTime": {
     "end_time": "2020-11-09T15:47:10.040905Z",
     "start_time": "2020-11-09T15:47:10.029176Z"
    },
    "colab": {},
    "colab_type": "code",
    "id": "4bXP93aqejr1"
   },
   "outputs": [
    {
     "output_type": "execute_result",
     "data": {
      "text/plain": [
       "1300"
      ]
     },
     "metadata": {},
     "execution_count": 13
    }
   ],
   "source": [
    "# Let's assume you have $20000 USD in our account\n",
    "# We want to buy AMZN stocks using the total amount \n",
    "# AMZN stock is priced at $3116 each\n",
    "AAPL_count = 5\n",
    "AAPL_price = 260\n",
    "account_balance = AAPL_count * AAPL_price\n",
    "account_balance"
   ]
  },
  {
   "cell_type": "code",
   "execution_count": 70,
   "metadata": {
    "ExecuteTime": {
     "end_time": "2020-11-09T15:47:10.387372Z",
     "start_time": "2020-11-09T15:47:10.381348Z"
    },
    "colab": {},
    "colab_type": "code",
    "id": "Mc569vLOqxzg"
   },
   "outputs": [
    {
     "data": {
      "text/plain": [
       "6.418485237483954"
      ]
     },
     "execution_count": 70,
     "metadata": {},
     "output_type": "execute_result"
    }
   ],
   "source": [
    "# Divide the account balance by Amazon stock price and place the answer in units\n",
    "account_balance = 20000\n",
    "account_balance \n",
    "\n",
    "AMZN_price = 3116 \n",
    "units = account_balance/AMZN_price\n",
    "units"
   ]
  },
  {
   "cell_type": "markdown",
   "metadata": {
    "colab_type": "text",
    "id": "8UaT7FRdNnCQ"
   },
   "source": [
    "**MINI CHALLENGE #3:** \n",
    "- **Write a code that calculates the total value of a portfolio assuming that you own 15 Google stocks (Sticker Symbol: GOOG) priced at 1500 each** \n"
   ]
  },
  {
   "cell_type": "code",
   "execution_count": 71,
   "metadata": {
    "ExecuteTime": {
     "end_time": "2020-11-09T15:47:11.304222Z",
     "start_time": "2020-11-09T15:47:11.296477Z"
    },
    "colab": {},
    "colab_type": "code",
    "id": "qMFnXorONnoa"
   },
   "outputs": [
    {
     "data": {
      "text/plain": [
       "22500"
      ]
     },
     "execution_count": 71,
     "metadata": {},
     "output_type": "execute_result"
    }
   ],
   "source": [
    "GOOG = 15\n",
    "GOOG_PRICE = 1500 \n",
    "total = GOOG * GOOG_PRICE\n",
    "total"
   ]
  },
  {
   "cell_type": "markdown",
   "metadata": {
    "colab_type": "text",
    "id": "iB_6pgJeNnCV"
   },
   "source": [
    "**MINI CHALLENGE #4:**\n",
    "- **Write a code that takes in Google (GOOG) stock prices at two days and calculate the return:**\n",
    "  - **GOOG price on day 1 = \\$260** \n",
    "  - **GOOG price on day 2 = \\$280**"
   ]
  },
  {
   "cell_type": "code",
   "execution_count": 14,
   "metadata": {
    "ExecuteTime": {
     "end_time": "2020-11-09T15:47:12.147181Z",
     "start_time": "2020-11-09T15:47:12.126805Z"
    }
   },
   "outputs": [
    {
     "output_type": "execute_result",
     "data": {
      "text/plain": [
       "7.6923076923076925"
      ]
     },
     "metadata": {},
     "execution_count": 14
    }
   ],
   "source": [
    "GOOG_price_1 = 260\n",
    "GOOG_price_2 = 280\n",
    "\n",
    "price_diff = GOOG_price_2 - GOOG_price_1\n",
    "percentage_change = price_diff / GOOG_price_1 * 100\n",
    "\n",
    "percentage_change"
   ]
  },
  {
   "cell_type": "markdown",
   "metadata": {
    "colab_type": "text",
    "id": "b_4wxmCklMQE"
   },
   "source": [
    "# 3. ORDER OF OPERATIONS (PRECEDENCE)"
   ]
  },
  {
   "cell_type": "code",
   "execution_count": 15,
   "metadata": {
    "ExecuteTime": {
     "end_time": "2020-11-09T15:47:12.577031Z",
     "start_time": "2020-11-09T15:47:12.566046Z"
    },
    "colab": {},
    "colab_type": "code",
    "id": "PDPpISzEkov3"
   },
   "outputs": [
    {
     "output_type": "execute_result",
     "data": {
      "text/plain": [
       "35"
      ]
     },
     "metadata": {},
     "execution_count": 15
    }
   ],
   "source": [
    "# add 3 and 4 and then multiply the answer by 5\n",
    "# Note that parantheses have the highest precedence\n",
    "#Multiplication have Higher precedence \n",
    "\n",
    "(3 + 4) * 5 \n",
    "# With the precedence rule "
   ]
  },
  {
   "cell_type": "markdown",
   "metadata": {},
   "source": [
    "The rule of precedence make us "
   ]
  },
  {
   "cell_type": "code",
   "execution_count": 16,
   "metadata": {
    "ExecuteTime": {
     "end_time": "2020-11-09T15:47:15.511487Z",
     "start_time": "2020-11-09T15:47:15.504150Z"
    },
    "colab": {},
    "colab_type": "code",
    "id": "lqvGyX4psG6L"
   },
   "outputs": [
    {
     "output_type": "execute_result",
     "data": {
      "text/plain": [
       "7"
      ]
     },
     "metadata": {},
     "execution_count": 16
    }
   ],
   "source": [
    "# Multiplication has higher precedence compared to addition\n",
    "1 + 2 * 3"
   ]
  },
  {
   "cell_type": "code",
   "execution_count": 18,
   "metadata": {
    "ExecuteTime": {
     "end_time": "2020-11-09T15:47:15.691455Z",
     "start_time": "2020-11-09T15:47:15.687422Z"
    },
    "colab": {},
    "colab_type": "code",
    "id": "Nx2IPN34sI0A"
   },
   "outputs": [],
   "source": [
    "# Division has higher precedence compared to addition\n"
   ]
  },
  {
   "cell_type": "markdown",
   "metadata": {
    "colab_type": "text",
    "id": "LD0jeVJddRrf"
   },
   "source": [
    "**MINI CHALLENGE #5:**\n",
    "- **Assume that you own 15 shares of AAPL stock priced at \\$150 a share. Apple announced the launch of 5 new products with exceptional features so the stock price increased to $170 a share. Calculate the total profit.**\n",
    "\n",
    "\n",
    "\n",
    "\n"
   ]
  },
  {
   "cell_type": "code",
   "execution_count": 19,
   "metadata": {
    "ExecuteTime": {
     "end_time": "2020-11-09T15:47:16.458286Z",
     "start_time": "2020-11-09T15:47:16.449474Z"
    },
    "colab": {},
    "colab_type": "code",
    "id": "ieENt2DUNwDC"
   },
   "outputs": [
    {
     "output_type": "execute_result",
     "data": {
      "text/plain": [
       "300"
      ]
     },
     "metadata": {},
     "execution_count": 19
    }
   ],
   "source": [
    "AAPL_new = 170\n",
    "AAPL_old = 150\n",
    "num_shares = 15\n",
    "profit = (AAPL_new - AAPL_old) * num_shares\n",
    "profit"
   ]
  },
  {
   "cell_type": "markdown",
   "metadata": {
    "colab_type": "text",
    "id": "s79S7MtycPGX"
   },
   "source": [
    "**MINI CHALLENGE #6:** \n",
    "- **Write a code that performs the following mathematical operation: z = |x − y| * (x + y)**"
   ]
  },
  {
   "cell_type": "code",
   "execution_count": 20,
   "metadata": {
    "ExecuteTime": {
     "end_time": "2020-11-09T15:47:25.587236Z",
     "start_time": "2020-11-09T15:47:25.580752Z"
    },
    "colab": {},
    "colab_type": "code",
    "id": "yGVvKkDKc0LR"
   },
   "outputs": [
    {
     "output_type": "execute_result",
     "data": {
      "text/plain": [
       "12"
      ]
     },
     "metadata": {},
     "execution_count": 20
    }
   ],
   "source": [
    "x =4 \n",
    "y = 2\n",
    "z = abs(x - y) * (x + y)\n",
    "z"
   ]
  },
  {
   "cell_type": "markdown",
   "metadata": {
    "colab_type": "text",
    "id": "Jvxd_A696qnl"
   },
   "source": [
    "# 4. PRINT OPERATION"
   ]
  },
  {
   "cell_type": "code",
   "execution_count": 78,
   "metadata": {
    "ExecuteTime": {
     "end_time": "2020-11-09T15:47:30.238602Z",
     "start_time": "2020-11-09T15:47:30.233336Z"
    },
    "colab": {},
    "colab_type": "code",
    "id": "74NV4Ix36wE2"
   },
   "outputs": [],
   "source": [
    "# Print function is used to print elements on the screen\n",
    "# Define a string x \n",
    "# A string in Python is a sequence of characters\n",
    "# String in python are surrounded by single or double quotation marks\n"
   ]
  },
  {
   "cell_type": "code",
   "execution_count": 79,
   "metadata": {
    "ExecuteTime": {
     "end_time": "2020-11-09T15:47:31.297493Z",
     "start_time": "2020-11-09T15:47:31.292393Z"
    },
    "colab": {},
    "colab_type": "code",
    "id": "08UQhKoR8d3H"
   },
   "outputs": [],
   "source": [
    "# Obtain the data type for 'x'\n"
   ]
  },
  {
   "cell_type": "code",
   "execution_count": 80,
   "metadata": {
    "ExecuteTime": {
     "end_time": "2020-11-09T15:47:31.842039Z",
     "start_time": "2020-11-09T15:47:31.834861Z"
    },
    "colab": {},
    "colab_type": "code",
    "id": "1nHBcL7D61YQ"
   },
   "outputs": [],
   "source": [
    "# Print x\n"
   ]
  },
  {
   "cell_type": "code",
   "execution_count": 81,
   "metadata": {
    "ExecuteTime": {
     "end_time": "2020-11-09T15:47:32.204373Z",
     "start_time": "2020-11-09T15:47:32.200580Z"
    },
    "colab": {},
    "colab_type": "code",
    "id": "7JUqe3DF7WQv"
   },
   "outputs": [],
   "source": [
    "# Define a string and put 'Apple Inc.' in it\n",
    "cp = \"Apple Inc.\""
   ]
  },
  {
   "cell_type": "code",
   "execution_count": 82,
   "metadata": {
    "ExecuteTime": {
     "end_time": "2020-11-09T15:47:32.532289Z",
     "start_time": "2020-11-09T15:47:32.524560Z"
    },
    "colab": {},
    "colab_type": "code",
    "id": "J_r5_BGt7Wsg"
   },
   "outputs": [
    {
     "name": "stdout",
     "output_type": "stream",
     "text": [
      "ticker name for Apple Inc. is APPL\n"
     ]
    }
   ],
   "source": [
    "# The format() method formats the specified value and insert it in the placeholder. \n",
    "# The placeholder is defined using curly braces: {}\n",
    "print (\"ticker name for {} is APPL\".format(cp))"
   ]
  },
  {
   "cell_type": "code",
   "execution_count": 83,
   "metadata": {
    "ExecuteTime": {
     "end_time": "2020-11-09T15:47:34.393859Z",
     "start_time": "2020-11-09T15:47:34.388529Z"
    },
    "colab": {},
    "colab_type": "code",
    "id": "cn5wkGcL7Wqs"
   },
   "outputs": [],
   "source": [
    "shares = 50"
   ]
  },
  {
   "cell_type": "code",
   "execution_count": 84,
   "metadata": {
    "ExecuteTime": {
     "end_time": "2020-11-09T15:47:37.099414Z",
     "start_time": "2020-11-09T15:47:37.090958Z"
    },
    "colab": {},
    "colab_type": "code",
    "id": "mcIEXuw47Wpk"
   },
   "outputs": [
    {
     "name": "stdout",
     "output_type": "stream",
     "text": [
      "I own 50 shares of Apple Inc.\n"
     ]
    }
   ],
   "source": [
    "# You can place two or more placeholders with print function\n",
    "print(\"I own {} shares of {}\".format(shares, cp))"
   ]
  },
  {
   "cell_type": "markdown",
   "metadata": {
    "colab_type": "text",
    "id": "__Ybj8rmGKpY"
   },
   "source": [
    "**MINI CHALLENGE #7:**\n",
    "- **Write a code that print out the above statement along with AAPL ticker**\n",
    "- **i.e.: I own 30 shares of Apple Inc.(AAPL)** "
   ]
  },
  {
   "cell_type": "code",
   "execution_count": 50,
   "metadata": {
    "ExecuteTime": {
     "end_time": "2020-11-09T13:59:19.532071Z",
     "start_time": "2020-11-09T13:59:19.527601Z"
    },
    "colab": {},
    "colab_type": "code",
    "id": "i6LmOCF6Gd6G"
   },
   "outputs": [
    {
     "name": "stdout",
     "output_type": "stream",
     "text": [
      "I own 50 ares of Apple Inc. (AAPL)\n"
     ]
    }
   ],
   "source": [
    "ticker = 'AAPL'\n",
    "print('I own {} ares of {} ({})'.format(shares, cp, ticker))"
   ]
  },
  {
   "cell_type": "markdown",
   "metadata": {
    "colab_type": "text",
    "id": "hp9P-qXN-Gll"
   },
   "source": [
    "# 5. GET USER INPUT"
   ]
  },
  {
   "cell_type": "code",
   "execution_count": 21,
   "metadata": {
    "ExecuteTime": {
     "end_time": "2020-11-09T14:03:01.369469Z",
     "start_time": "2020-11-09T14:02:48.489872Z"
    },
    "colab": {},
    "colab_type": "code",
    "id": "FFghOQVi7Wh_"
   },
   "outputs": [],
   "source": [
    "# input is a built-in function in python\n",
    "# Get bank client name as an input and print it out on the screen \n",
    "name = input(\"Welcome to the bank, What's your name?\")"
   ]
  },
  {
   "cell_type": "code",
   "execution_count": 22,
   "metadata": {
    "ExecuteTime": {
     "end_time": "2020-11-09T15:49:31.445556Z",
     "start_time": "2020-11-09T15:49:21.247726Z"
    }
   },
   "outputs": [
    {
     "output_type": "stream",
     "name": "stdout",
     "text": [
      "My name is Jhonatas, I am 26 years old, and my estimated networth is = \n"
     ]
    }
   ],
   "source": [
    "name = input(\"Welcome to the bank, please enter your name: \")\n",
    "age = input(\"Enter your age: \")\n",
    "networth = input(\"Enter your total networth (assets - liabilities): \")\n",
    "print(\"My name is {}, I am {} years old, and my estimated networth is = {}\".format(name, age, networth))"
   ]
  },
  {
   "cell_type": "code",
   "execution_count": 23,
   "metadata": {
    "ExecuteTime": {
     "end_time": "2020-11-09T15:51:15.069355Z",
     "start_time": "2020-11-09T15:51:00.999271Z"
    },
    "colab": {},
    "colab_type": "code",
    "id": "u4D5GDGP7Wgm"
   },
   "outputs": [
    {
     "output_type": "error",
     "ename": "TypeError",
     "evalue": "can't multiply sequence by non-int of type 'str'",
     "traceback": [
      "\u001b[0;31m---------------------------------------------------------------------------\u001b[0m",
      "\u001b[0;31mTypeError\u001b[0m                                 Traceback (most recent call last)",
      "\u001b[0;32m<ipython-input-23-3028c019a4fe>\u001b[0m in \u001b[0;36m<module>\u001b[0;34m\u001b[0m\n\u001b[1;32m      2\u001b[0m \u001b[0mx\u001b[0m \u001b[0;34m=\u001b[0m \u001b[0minput\u001b[0m\u001b[0;34m(\u001b[0m\u001b[0;34m\"Enter the price of AAPL stock today: \"\u001b[0m\u001b[0;34m)\u001b[0m\u001b[0;34m\u001b[0m\u001b[0;34m\u001b[0m\u001b[0m\n\u001b[1;32m      3\u001b[0m \u001b[0my\u001b[0m \u001b[0;34m=\u001b[0m \u001b[0minput\u001b[0m\u001b[0;34m(\u001b[0m\u001b[0;34m\"Enter the number of APPLE stocks that you want to buy: \"\u001b[0m\u001b[0;34m)\u001b[0m\u001b[0;34m\u001b[0m\u001b[0;34m\u001b[0m\u001b[0m\n\u001b[0;32m----> 4\u001b[0;31m \u001b[0mprint\u001b[0m\u001b[0;34m(\u001b[0m\u001b[0;34m'The total funds required to buy {} shares of AAPL stock at {} dollars is {}'\u001b[0m\u001b[0;34m.\u001b[0m\u001b[0mformat\u001b[0m\u001b[0;34m(\u001b[0m\u001b[0my\u001b[0m\u001b[0;34m,\u001b[0m \u001b[0mx\u001b[0m\u001b[0;34m,\u001b[0m \u001b[0mx\u001b[0m\u001b[0;34m*\u001b[0m\u001b[0my\u001b[0m\u001b[0;34m)\u001b[0m\u001b[0;34m)\u001b[0m\u001b[0;34m\u001b[0m\u001b[0;34m\u001b[0m\u001b[0m\n\u001b[0m",
      "\u001b[0;31mTypeError\u001b[0m: can't multiply sequence by non-int of type 'str'"
     ]
    }
   ],
   "source": [
    "# Obtain bank client data such as name, age and assets and print them all out on the screen\n",
    "x = input(\"Enter the price of AAPL stock today: \")\n",
    "y = input(\"Enter the number of APPLE stocks that you want to buy: \")\n",
    "print('The total funds required to buy {} shares of AAPL stock at {} dollars is {}'.format(y, x, x*y)) "
   ]
  },
  {
   "cell_type": "code",
   "execution_count": 90,
   "metadata": {
    "ExecuteTime": {
     "end_time": "2020-11-09T15:56:38.693299Z",
     "start_time": "2020-11-09T15:56:33.799085Z"
    },
    "colab": {},
    "colab_type": "code",
    "id": "W6hQp4YP7Wdr"
   },
   "outputs": [
    {
     "name": "stdout",
     "output_type": "stream",
     "text": [
      "Enter the price of AAPL stock today: 3000\n",
      "Enter the number of APPLE stocks that you want to buy: 20\n",
      "The total funds required to buy 20 shares of AAPL stock at 3000 dollars is 60000\n"
     ]
    }
   ],
   "source": [
    "# Obtain user inputs, perform mathematical operation, and print the results \n",
    "# Note: Are you getting an error? Move to the next code cell \n",
    "x = input(\"Enter the price of AAPL stock today: \")\n",
    "x = int(x)\n",
    "y = input(\"Enter the number of APPLE stocks that you want to buy: \")\n",
    "y = int(y)\n",
    "print('The total funds required to buy {} shares of AAPL stock at {} dollars is {}'.format(y, x, x*y)) "
   ]
  },
  {
   "cell_type": "code",
   "execution_count": null,
   "metadata": {
    "colab": {},
    "colab_type": "code",
    "id": "abPg-86q7Waq"
   },
   "outputs": [],
   "source": [
    "# Convert from string datatype to integer datatype prior to performing addition\n",
    "#ABOVE"
   ]
  },
  {
   "cell_type": "markdown",
   "metadata": {
    "colab_type": "text",
    "id": "L8v5D4y1CIUQ"
   },
   "source": [
    "**MINI CHALLENGE #8:** \n",
    "- **Write a code that takes in the name of the stock, price at which it is selling, the number of stocks that you want to own and prints out the total funds required to buy this stock. Find a sample expected output below:**\n",
    "\n",
    "  - Enter the price of the stock you want to buy: 3000  \n",
    "  - Enter the number of stocks that you want to buy: 5\n",
    "  - Enter the name of the stock that you want to buy: AMZN\n",
    "  - The total funds required to buy 5 number of AMZN stocks at 3000 is 15000\n"
   ]
  },
  {
   "cell_type": "code",
   "execution_count": 91,
   "metadata": {
    "ExecuteTime": {
     "end_time": "2020-11-09T16:03:46.158443Z",
     "start_time": "2020-11-09T16:03:33.851980Z"
    }
   },
   "outputs": [
    {
     "name": "stdout",
     "output_type": "stream",
     "text": [
      "Enter the price of stock you want to buy : 3000\n",
      "Enter the number of stocks that you want to buy: 80\n",
      "Enter the name of the stock you want to buy: AAPL\n",
      "The total funds required to buy 80 shares of AAPL stocks at 3000 is 240000\n"
     ]
    }
   ],
   "source": [
    "x = input(\"Enter the price of stock you want to buy : \")\n",
    "x = int(x)\n",
    "y = input(\"Enter the number of stocks that you want to buy: \")\n",
    "y = int(y)\n",
    "z = input('Enter the name of the stock you want to buy: ')\n",
    "print('The total funds required to buy {} shares of {} stocks at {} is {}'.format(y, z, x, x*y)) "
   ]
  },
  {
   "cell_type": "code",
   "execution_count": 1,
   "metadata": {
    "colab": {},
    "colab_type": "code",
    "id": "R_CHNPWbnAf0"
   },
   "outputs": [
    {
     "output_type": "execute_result",
     "data": {
      "text/plain": [
       "3530"
      ]
     },
     "metadata": {},
     "execution_count": 1
    }
   ],
   "source": [
    "# The output of this code is 3530\n",
    "# Initially we put 3324 in AMZN, then we overwrite it by placing 3400 in AMZN, and then 3530 in AMZN\n",
    "AMZN = 3324\n",
    "AMZN = 3400\n",
    "AMZN = 3530\n",
    "AMZN"
   ]
  },
  {
   "cell_type": "code",
   "execution_count": 2,
   "metadata": {
    "colab": {},
    "colab_type": "code",
    "id": "p449NLcAnCbu"
   },
   "outputs": [
    {
     "output_type": "execute_result",
     "data": {
      "text/plain": [
       "float"
      ]
     },
     "metadata": {},
     "execution_count": 2
    }
   ],
   "source": [
    "AAPL = 112\n",
    "AAPL = 115.3\n",
    "type(AAPL)"
   ]
  }
 ],
 "metadata": {
  "colab": {
   "collapsed_sections": [],
   "name": "1. Python 101 - Variables Assignment, Math Ops, Precedence, and Print/Get - Skeleton before filming.ipynb",
   "provenance": []
  },
  "hide_input": false,
  "kernelspec": {
   "display_name": "Python 3",
   "language": "python",
   "name": "python3"
  },
  "language_info": {
   "codemirror_mode": {
    "name": "ipython",
    "version": 3
   },
   "file_extension": ".py",
   "mimetype": "text/x-python",
   "name": "python",
   "nbconvert_exporter": "python",
   "pygments_lexer": "ipython3",
   "version": "3.8.5-final"
  },
  "latex_envs": {
   "LaTeX_envs_menu_present": true,
   "autoclose": false,
   "autocomplete": true,
   "bibliofile": "biblio.bib",
   "cite_by": "apalike",
   "current_citInitial": 1,
   "eqLabelWithNumbers": true,
   "eqNumInitial": 1,
   "hotkeys": {
    "equation": "Ctrl-E",
    "itemize": "Ctrl-I"
   },
   "labels_anchors": false,
   "latex_user_defs": false,
   "report_style_numbering": false,
   "user_envs_cfg": false
  },
  "varInspector": {
   "cols": {
    "lenName": 16,
    "lenType": 16,
    "lenVar": 40
   },
   "kernels_config": {
    "python": {
     "delete_cmd_postfix": "",
     "delete_cmd_prefix": "del ",
     "library": "var_list.py",
     "varRefreshCmd": "print(var_dic_list())"
    },
    "r": {
     "delete_cmd_postfix": ") ",
     "delete_cmd_prefix": "rm(",
     "library": "var_list.r",
     "varRefreshCmd": "cat(var_dic_list()) "
    }
   },
   "types_to_exclude": [
    "module",
    "function",
    "builtin_function_or_method",
    "instance",
    "_Feature"
   ],
   "window_display": false
  }
 },
 "nbformat": 4,
 "nbformat_minor": 1
}